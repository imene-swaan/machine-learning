{
 "cells": [
  {
   "cell_type": "markdown",
   "metadata": {},
   "source": [
    "# Projet: Sondage d'opinion\n",
    "\n",
    "## Par: Imene KOLLI  -  G4\n",
    "\n",
    "\n",
    "## Introduction\n",
    "> Dans le cadre de la compétition annuel organise par JTI intitule MAKEITBRIGHT challenge. Moi autant que participantes, j'ai developpe une platform pour la firme dont le but est de creer des liens et des collaborations entre l'entreprise et l'universite.\n",
    "Pour ce faire, j'avais besoin de la participation des employees de JTI a la platforme.\n",
    "\n",
    "> En appliquant ce que j'ai appris au cours de la theorie de sondage, j'ai decide de faire un sondage d'opinion pour avoir une idee sur la volonte des employees a participer volontairement, ainsi qu'avoir leurs opinions a propos de l'impacte/benifice de ma platform sur les etudiants et sur l'entreprise."
   ]
  },
  {
   "cell_type": "markdown",
   "metadata": {},
   "source": [
    "### Sondage En-ligne:\n",
    "> Dans cet enquete, j'ai fait mon sondage en-ligne en utilisant le site internet www.Typeform.com\n",
    "\n",
    "> Voici le lien de mon sondage ou vous pouvais consulter les questions que j'ai pose. Veuillez noter que mon enquête est en anglais car c'est la langue la plus courante\n",
    "\n",
    "- le lien : https://imenekolli.typeform.com/to/FP4hKaPg"
   ]
  },
  {
   "cell_type": "markdown",
   "metadata": {},
   "source": [
    "### Base de sondage:\n",
    "> Pour des raisons de confidentialité, je n'ai malheureusement pas pu construire une base de sondage des employés de JTI.\n",
    "\n",
    "> Au total, mon enquête comprenait **16 questions** de types différents: à choix multiples, oui / non, échelles de notation et questions ouvertes.\n",
    "\n",
    "> J'ai également inclus des déclarations dans l'enquête où j'explique l'idée derrière ma plateforme et comment les employés peuvent y participer. Il s'agissait de s'assurer qu'ils comprennent ce que l'on attend d'eux afin que leurs réponses soient plus précises et plus fiables.\n",
    "\n",
    "> Au final, j'ai pu recueillir **44 réponses** à mon enquête. J'explorerai ces réponses ci-dessous et en rassemblerai des informations qui m'aideront à mieux développer ma plateforme et à GAGNER la compétition."
   ]
  },
  {
   "cell_type": "code",
   "execution_count": 1,
   "metadata": {},
   "outputs": [],
   "source": [
    "# Je vais utiliser Python pour analyser mes donnes que j'ai deja collecte dans un fichier CSV.\n",
    "\n",
    "import pandas as pd\n",
    "import numpy as np\n",
    "import matplotlib.pyplot as plt\n",
    "import seaborn as sns\n",
    "\n",
    "%matplotlib inline"
   ]
  },
  {
   "cell_type": "code",
   "execution_count": 2,
   "metadata": {},
   "outputs": [],
   "source": [
    "df = pd.read_csv('reponses.csv')"
   ]
  },
  {
   "cell_type": "code",
   "execution_count": 3,
   "metadata": {},
   "outputs": [
    {
     "data": {
      "text/html": [
       "<div>\n",
       "<style scoped>\n",
       "    .dataframe tbody tr th:only-of-type {\n",
       "        vertical-align: middle;\n",
       "    }\n",
       "\n",
       "    .dataframe tbody tr th {\n",
       "        vertical-align: top;\n",
       "    }\n",
       "\n",
       "    .dataframe thead th {\n",
       "        text-align: right;\n",
       "    }\n",
       "</style>\n",
       "<table border=\"1\" class=\"dataframe\">\n",
       "  <thead>\n",
       "    <tr style=\"text-align: right;\">\n",
       "      <th></th>\n",
       "      <th>SEXE</th>\n",
       "      <th>Experience_ans</th>\n",
       "      <th>Departement_JTI</th>\n",
       "      <th>Experience_poste_ans</th>\n",
       "      <th>Office</th>\n",
       "      <th>evaluation_benifice</th>\n",
       "      <th>evaluation_idee</th>\n",
       "      <th>creation_contenu</th>\n",
       "      <th>creation_video</th>\n",
       "      <th>encadrement</th>\n",
       "      <th>consultation</th>\n",
       "      <th>creation_corrige_type</th>\n",
       "      <th>recompanse</th>\n",
       "      <th>evaluation_enthousiasme</th>\n",
       "      <th>exp_en_design</th>\n",
       "      <th>exp_en_encadrement</th>\n",
       "      <th>besoin_de_formation</th>\n",
       "      <th>Heure</th>\n",
       "    </tr>\n",
       "  </thead>\n",
       "  <tbody>\n",
       "    <tr>\n",
       "      <th>0</th>\n",
       "      <td>F</td>\n",
       "      <td>3</td>\n",
       "      <td>M&amp;S</td>\n",
       "      <td>1</td>\n",
       "      <td>Algiers</td>\n",
       "      <td>5</td>\n",
       "      <td>5</td>\n",
       "      <td>1</td>\n",
       "      <td>1</td>\n",
       "      <td>1</td>\n",
       "      <td>1</td>\n",
       "      <td>1</td>\n",
       "      <td>Gifts</td>\n",
       "      <td>5</td>\n",
       "      <td>0</td>\n",
       "      <td>1</td>\n",
       "      <td>1</td>\n",
       "      <td>2</td>\n",
       "    </tr>\n",
       "    <tr>\n",
       "      <th>1</th>\n",
       "      <td>F</td>\n",
       "      <td>5</td>\n",
       "      <td>FINANCE</td>\n",
       "      <td>3</td>\n",
       "      <td>ALGERIA</td>\n",
       "      <td>4</td>\n",
       "      <td>4</td>\n",
       "      <td>0</td>\n",
       "      <td>0</td>\n",
       "      <td>0</td>\n",
       "      <td>1</td>\n",
       "      <td>0</td>\n",
       "      <td>Thank you card</td>\n",
       "      <td>1</td>\n",
       "      <td>0</td>\n",
       "      <td>0</td>\n",
       "      <td>1</td>\n",
       "      <td>1</td>\n",
       "    </tr>\n",
       "    <tr>\n",
       "      <th>2</th>\n",
       "      <td>M</td>\n",
       "      <td>1</td>\n",
       "      <td>G&amp;A</td>\n",
       "      <td>1</td>\n",
       "      <td>Tunis</td>\n",
       "      <td>1</td>\n",
       "      <td>5</td>\n",
       "      <td>0</td>\n",
       "      <td>1</td>\n",
       "      <td>0</td>\n",
       "      <td>0</td>\n",
       "      <td>0</td>\n",
       "      <td>Gifts</td>\n",
       "      <td>2</td>\n",
       "      <td>0</td>\n",
       "      <td>0</td>\n",
       "      <td>1</td>\n",
       "      <td>3</td>\n",
       "    </tr>\n",
       "    <tr>\n",
       "      <th>3</th>\n",
       "      <td>F</td>\n",
       "      <td>10</td>\n",
       "      <td>Trade marketing</td>\n",
       "      <td>3</td>\n",
       "      <td>Tunisia</td>\n",
       "      <td>4</td>\n",
       "      <td>4</td>\n",
       "      <td>0</td>\n",
       "      <td>0</td>\n",
       "      <td>1</td>\n",
       "      <td>0</td>\n",
       "      <td>0</td>\n",
       "      <td>Cash</td>\n",
       "      <td>4</td>\n",
       "      <td>1</td>\n",
       "      <td>1</td>\n",
       "      <td>1</td>\n",
       "      <td>1</td>\n",
       "    </tr>\n",
       "    <tr>\n",
       "      <th>4</th>\n",
       "      <td>M</td>\n",
       "      <td>5</td>\n",
       "      <td>Marketing</td>\n",
       "      <td>2</td>\n",
       "      <td>Tunisia</td>\n",
       "      <td>3</td>\n",
       "      <td>4</td>\n",
       "      <td>1</td>\n",
       "      <td>0</td>\n",
       "      <td>0</td>\n",
       "      <td>0</td>\n",
       "      <td>0</td>\n",
       "      <td>Cash</td>\n",
       "      <td>4</td>\n",
       "      <td>1</td>\n",
       "      <td>1</td>\n",
       "      <td>1</td>\n",
       "      <td>2</td>\n",
       "    </tr>\n",
       "    <tr>\n",
       "      <th>5</th>\n",
       "      <td>M</td>\n",
       "      <td>2</td>\n",
       "      <td>HR</td>\n",
       "      <td>2</td>\n",
       "      <td>Casablanca</td>\n",
       "      <td>5</td>\n",
       "      <td>5</td>\n",
       "      <td>1</td>\n",
       "      <td>0</td>\n",
       "      <td>0</td>\n",
       "      <td>1</td>\n",
       "      <td>0</td>\n",
       "      <td>Experiences</td>\n",
       "      <td>5</td>\n",
       "      <td>1</td>\n",
       "      <td>1</td>\n",
       "      <td>1</td>\n",
       "      <td>2</td>\n",
       "    </tr>\n",
       "    <tr>\n",
       "      <th>6</th>\n",
       "      <td>NaN</td>\n",
       "      <td>1</td>\n",
       "      <td>Marketing</td>\n",
       "      <td>1</td>\n",
       "      <td>Algeria</td>\n",
       "      <td>3</td>\n",
       "      <td>3</td>\n",
       "      <td>1</td>\n",
       "      <td>1</td>\n",
       "      <td>0</td>\n",
       "      <td>0</td>\n",
       "      <td>0</td>\n",
       "      <td>Cash</td>\n",
       "      <td>3</td>\n",
       "      <td>1</td>\n",
       "      <td>0</td>\n",
       "      <td>1</td>\n",
       "      <td>1</td>\n",
       "    </tr>\n",
       "    <tr>\n",
       "      <th>7</th>\n",
       "      <td>NaN</td>\n",
       "      <td>11</td>\n",
       "      <td>G&amp;A</td>\n",
       "      <td>8</td>\n",
       "      <td>Casablanca</td>\n",
       "      <td>1</td>\n",
       "      <td>4</td>\n",
       "      <td>0</td>\n",
       "      <td>1</td>\n",
       "      <td>1</td>\n",
       "      <td>0</td>\n",
       "      <td>0</td>\n",
       "      <td>Thank you card</td>\n",
       "      <td>4</td>\n",
       "      <td>0</td>\n",
       "      <td>0</td>\n",
       "      <td>1</td>\n",
       "      <td>2</td>\n",
       "    </tr>\n",
       "    <tr>\n",
       "      <th>8</th>\n",
       "      <td>F</td>\n",
       "      <td>9</td>\n",
       "      <td>FINANCE</td>\n",
       "      <td>6</td>\n",
       "      <td>Algiers</td>\n",
       "      <td>5</td>\n",
       "      <td>2</td>\n",
       "      <td>1</td>\n",
       "      <td>1</td>\n",
       "      <td>1</td>\n",
       "      <td>1</td>\n",
       "      <td>1</td>\n",
       "      <td>Thank you card</td>\n",
       "      <td>5</td>\n",
       "      <td>0</td>\n",
       "      <td>1</td>\n",
       "      <td>1</td>\n",
       "      <td>4</td>\n",
       "    </tr>\n",
       "    <tr>\n",
       "      <th>9</th>\n",
       "      <td>M</td>\n",
       "      <td>4</td>\n",
       "      <td>supply &amp; chain</td>\n",
       "      <td>4</td>\n",
       "      <td>NaN</td>\n",
       "      <td>5</td>\n",
       "      <td>1</td>\n",
       "      <td>0</td>\n",
       "      <td>1</td>\n",
       "      <td>0</td>\n",
       "      <td>1</td>\n",
       "      <td>0</td>\n",
       "      <td>Cash</td>\n",
       "      <td>4</td>\n",
       "      <td>0</td>\n",
       "      <td>0</td>\n",
       "      <td>0</td>\n",
       "      <td>7</td>\n",
       "    </tr>\n",
       "    <tr>\n",
       "      <th>10</th>\n",
       "      <td>M</td>\n",
       "      <td>10</td>\n",
       "      <td>sales</td>\n",
       "      <td>7</td>\n",
       "      <td>ALGERIA</td>\n",
       "      <td>3</td>\n",
       "      <td>5</td>\n",
       "      <td>1</td>\n",
       "      <td>0</td>\n",
       "      <td>1</td>\n",
       "      <td>1</td>\n",
       "      <td>0</td>\n",
       "      <td>Experiences</td>\n",
       "      <td>5</td>\n",
       "      <td>0</td>\n",
       "      <td>0</td>\n",
       "      <td>1</td>\n",
       "      <td>5</td>\n",
       "    </tr>\n",
       "    <tr>\n",
       "      <th>11</th>\n",
       "      <td>M</td>\n",
       "      <td>5</td>\n",
       "      <td>G&amp;A</td>\n",
       "      <td>2</td>\n",
       "      <td>tunis</td>\n",
       "      <td>1</td>\n",
       "      <td>1</td>\n",
       "      <td>0</td>\n",
       "      <td>1</td>\n",
       "      <td>0</td>\n",
       "      <td>1</td>\n",
       "      <td>0</td>\n",
       "      <td>Thank you card</td>\n",
       "      <td>4</td>\n",
       "      <td>1</td>\n",
       "      <td>1</td>\n",
       "      <td>1</td>\n",
       "      <td>2</td>\n",
       "    </tr>\n",
       "    <tr>\n",
       "      <th>12</th>\n",
       "      <td>M</td>\n",
       "      <td>11</td>\n",
       "      <td>FINANCE</td>\n",
       "      <td>1</td>\n",
       "      <td>tunisia</td>\n",
       "      <td>4</td>\n",
       "      <td>1</td>\n",
       "      <td>0</td>\n",
       "      <td>0</td>\n",
       "      <td>1</td>\n",
       "      <td>0</td>\n",
       "      <td>0</td>\n",
       "      <td>Experiences</td>\n",
       "      <td>4</td>\n",
       "      <td>1</td>\n",
       "      <td>0</td>\n",
       "      <td>1</td>\n",
       "      <td>2</td>\n",
       "    </tr>\n",
       "    <tr>\n",
       "      <th>13</th>\n",
       "      <td>F</td>\n",
       "      <td>4</td>\n",
       "      <td>Marketing</td>\n",
       "      <td>2</td>\n",
       "      <td>alger</td>\n",
       "      <td>3</td>\n",
       "      <td>4</td>\n",
       "      <td>0</td>\n",
       "      <td>0</td>\n",
       "      <td>1</td>\n",
       "      <td>1</td>\n",
       "      <td>1</td>\n",
       "      <td>Experiences</td>\n",
       "      <td>5</td>\n",
       "      <td>1</td>\n",
       "      <td>0</td>\n",
       "      <td>0</td>\n",
       "      <td>2</td>\n",
       "    </tr>\n",
       "    <tr>\n",
       "      <th>14</th>\n",
       "      <td>F</td>\n",
       "      <td>7</td>\n",
       "      <td>HR</td>\n",
       "      <td>3</td>\n",
       "      <td>Alger</td>\n",
       "      <td>3</td>\n",
       "      <td>5</td>\n",
       "      <td>1</td>\n",
       "      <td>1</td>\n",
       "      <td>0</td>\n",
       "      <td>1</td>\n",
       "      <td>0</td>\n",
       "      <td>Experiences</td>\n",
       "      <td>5</td>\n",
       "      <td>0</td>\n",
       "      <td>1</td>\n",
       "      <td>1</td>\n",
       "      <td>6</td>\n",
       "    </tr>\n",
       "    <tr>\n",
       "      <th>15</th>\n",
       "      <td>M</td>\n",
       "      <td>2</td>\n",
       "      <td>RRP</td>\n",
       "      <td>1</td>\n",
       "      <td>morocco</td>\n",
       "      <td>2</td>\n",
       "      <td>1</td>\n",
       "      <td>1</td>\n",
       "      <td>0</td>\n",
       "      <td>1</td>\n",
       "      <td>0</td>\n",
       "      <td>1</td>\n",
       "      <td>Experiences</td>\n",
       "      <td>4</td>\n",
       "      <td>1</td>\n",
       "      <td>1</td>\n",
       "      <td>1</td>\n",
       "      <td>4</td>\n",
       "    </tr>\n",
       "    <tr>\n",
       "      <th>16</th>\n",
       "      <td>F</td>\n",
       "      <td>5</td>\n",
       "      <td>accounting</td>\n",
       "      <td>1</td>\n",
       "      <td>NaN</td>\n",
       "      <td>1</td>\n",
       "      <td>5</td>\n",
       "      <td>0</td>\n",
       "      <td>1</td>\n",
       "      <td>0</td>\n",
       "      <td>0</td>\n",
       "      <td>1</td>\n",
       "      <td>Experiences</td>\n",
       "      <td>4</td>\n",
       "      <td>1</td>\n",
       "      <td>0</td>\n",
       "      <td>1</td>\n",
       "      <td>3</td>\n",
       "    </tr>\n",
       "    <tr>\n",
       "      <th>17</th>\n",
       "      <td>F</td>\n",
       "      <td>4</td>\n",
       "      <td>production</td>\n",
       "      <td>2</td>\n",
       "      <td>tunis</td>\n",
       "      <td>4</td>\n",
       "      <td>4</td>\n",
       "      <td>1</td>\n",
       "      <td>0</td>\n",
       "      <td>0</td>\n",
       "      <td>1</td>\n",
       "      <td>0</td>\n",
       "      <td>Thank you card</td>\n",
       "      <td>3</td>\n",
       "      <td>0</td>\n",
       "      <td>0</td>\n",
       "      <td>0</td>\n",
       "      <td>7</td>\n",
       "    </tr>\n",
       "    <tr>\n",
       "      <th>18</th>\n",
       "      <td>F</td>\n",
       "      <td>10</td>\n",
       "      <td>production</td>\n",
       "      <td>7</td>\n",
       "      <td>Casablanca</td>\n",
       "      <td>5</td>\n",
       "      <td>1</td>\n",
       "      <td>1</td>\n",
       "      <td>0</td>\n",
       "      <td>1</td>\n",
       "      <td>1</td>\n",
       "      <td>1</td>\n",
       "      <td>NaN</td>\n",
       "      <td>5</td>\n",
       "      <td>1</td>\n",
       "      <td>1</td>\n",
       "      <td>1</td>\n",
       "      <td>6</td>\n",
       "    </tr>\n",
       "    <tr>\n",
       "      <th>19</th>\n",
       "      <td>F</td>\n",
       "      <td>9</td>\n",
       "      <td>production</td>\n",
       "      <td>4</td>\n",
       "      <td>alger</td>\n",
       "      <td>1</td>\n",
       "      <td>3</td>\n",
       "      <td>0</td>\n",
       "      <td>1</td>\n",
       "      <td>0</td>\n",
       "      <td>0</td>\n",
       "      <td>0</td>\n",
       "      <td>Thank you card</td>\n",
       "      <td>5</td>\n",
       "      <td>0</td>\n",
       "      <td>1</td>\n",
       "      <td>1</td>\n",
       "      <td>3</td>\n",
       "    </tr>\n",
       "    <tr>\n",
       "      <th>20</th>\n",
       "      <td>F</td>\n",
       "      <td>7</td>\n",
       "      <td>FINANCE</td>\n",
       "      <td>5</td>\n",
       "      <td>alger</td>\n",
       "      <td>3</td>\n",
       "      <td>4</td>\n",
       "      <td>1</td>\n",
       "      <td>0</td>\n",
       "      <td>1</td>\n",
       "      <td>1</td>\n",
       "      <td>0</td>\n",
       "      <td>Thank you card</td>\n",
       "      <td>4</td>\n",
       "      <td>0</td>\n",
       "      <td>0</td>\n",
       "      <td>1</td>\n",
       "      <td>7</td>\n",
       "    </tr>\n",
       "    <tr>\n",
       "      <th>21</th>\n",
       "      <td>M</td>\n",
       "      <td>11</td>\n",
       "      <td>HR</td>\n",
       "      <td>1</td>\n",
       "      <td>morocco</td>\n",
       "      <td>5</td>\n",
       "      <td>4</td>\n",
       "      <td>0</td>\n",
       "      <td>1</td>\n",
       "      <td>1</td>\n",
       "      <td>1</td>\n",
       "      <td>1</td>\n",
       "      <td>Thank you card</td>\n",
       "      <td>5</td>\n",
       "      <td>1</td>\n",
       "      <td>1</td>\n",
       "      <td>1</td>\n",
       "      <td>3</td>\n",
       "    </tr>\n",
       "    <tr>\n",
       "      <th>22</th>\n",
       "      <td>M</td>\n",
       "      <td>3</td>\n",
       "      <td>RRP</td>\n",
       "      <td>2</td>\n",
       "      <td>Casablanca</td>\n",
       "      <td>3</td>\n",
       "      <td>5</td>\n",
       "      <td>1</td>\n",
       "      <td>0</td>\n",
       "      <td>1</td>\n",
       "      <td>0</td>\n",
       "      <td>0</td>\n",
       "      <td>Thank you card</td>\n",
       "      <td>5</td>\n",
       "      <td>0</td>\n",
       "      <td>0</td>\n",
       "      <td>1</td>\n",
       "      <td>7</td>\n",
       "    </tr>\n",
       "    <tr>\n",
       "      <th>23</th>\n",
       "      <td>F</td>\n",
       "      <td>5</td>\n",
       "      <td>G&amp;A</td>\n",
       "      <td>2</td>\n",
       "      <td>tunisia</td>\n",
       "      <td>1</td>\n",
       "      <td>2</td>\n",
       "      <td>1</td>\n",
       "      <td>1</td>\n",
       "      <td>1</td>\n",
       "      <td>0</td>\n",
       "      <td>0</td>\n",
       "      <td>Thank you card</td>\n",
       "      <td>4</td>\n",
       "      <td>1</td>\n",
       "      <td>0</td>\n",
       "      <td>0</td>\n",
       "      <td>2</td>\n",
       "    </tr>\n",
       "    <tr>\n",
       "      <th>24</th>\n",
       "      <td>M</td>\n",
       "      <td>11</td>\n",
       "      <td>FINANCE</td>\n",
       "      <td>8</td>\n",
       "      <td>tunisia</td>\n",
       "      <td>2</td>\n",
       "      <td>1</td>\n",
       "      <td>0</td>\n",
       "      <td>0</td>\n",
       "      <td>0</td>\n",
       "      <td>1</td>\n",
       "      <td>1</td>\n",
       "      <td>Cash</td>\n",
       "      <td>5</td>\n",
       "      <td>0</td>\n",
       "      <td>1</td>\n",
       "      <td>1</td>\n",
       "      <td>6</td>\n",
       "    </tr>\n",
       "    <tr>\n",
       "      <th>25</th>\n",
       "      <td>F</td>\n",
       "      <td>10</td>\n",
       "      <td>G&amp;A</td>\n",
       "      <td>5</td>\n",
       "      <td>tunis</td>\n",
       "      <td>5</td>\n",
       "      <td>2</td>\n",
       "      <td>1</td>\n",
       "      <td>1</td>\n",
       "      <td>0</td>\n",
       "      <td>0</td>\n",
       "      <td>0</td>\n",
       "      <td>Thank you card</td>\n",
       "      <td>4</td>\n",
       "      <td>0</td>\n",
       "      <td>1</td>\n",
       "      <td>0</td>\n",
       "      <td>6</td>\n",
       "    </tr>\n",
       "    <tr>\n",
       "      <th>26</th>\n",
       "      <td>M</td>\n",
       "      <td>11</td>\n",
       "      <td>RRP</td>\n",
       "      <td>10</td>\n",
       "      <td>algiers</td>\n",
       "      <td>3</td>\n",
       "      <td>4</td>\n",
       "      <td>1</td>\n",
       "      <td>1</td>\n",
       "      <td>1</td>\n",
       "      <td>0</td>\n",
       "      <td>0</td>\n",
       "      <td>Cash</td>\n",
       "      <td>3</td>\n",
       "      <td>1</td>\n",
       "      <td>1</td>\n",
       "      <td>1</td>\n",
       "      <td>6</td>\n",
       "    </tr>\n",
       "    <tr>\n",
       "      <th>27</th>\n",
       "      <td>M</td>\n",
       "      <td>5</td>\n",
       "      <td>accounting</td>\n",
       "      <td>4</td>\n",
       "      <td>algeria</td>\n",
       "      <td>1</td>\n",
       "      <td>4</td>\n",
       "      <td>0</td>\n",
       "      <td>0</td>\n",
       "      <td>0</td>\n",
       "      <td>0</td>\n",
       "      <td>0</td>\n",
       "      <td>Cash</td>\n",
       "      <td>4</td>\n",
       "      <td>0</td>\n",
       "      <td>0</td>\n",
       "      <td>0</td>\n",
       "      <td>6</td>\n",
       "    </tr>\n",
       "    <tr>\n",
       "      <th>28</th>\n",
       "      <td>F</td>\n",
       "      <td>4</td>\n",
       "      <td>accounting</td>\n",
       "      <td>1</td>\n",
       "      <td>ALGERIA</td>\n",
       "      <td>4</td>\n",
       "      <td>4</td>\n",
       "      <td>1</td>\n",
       "      <td>1</td>\n",
       "      <td>1</td>\n",
       "      <td>0</td>\n",
       "      <td>1</td>\n",
       "      <td>Experiences</td>\n",
       "      <td>3</td>\n",
       "      <td>0</td>\n",
       "      <td>0</td>\n",
       "      <td>1</td>\n",
       "      <td>1</td>\n",
       "    </tr>\n",
       "    <tr>\n",
       "      <th>29</th>\n",
       "      <td>F</td>\n",
       "      <td>1</td>\n",
       "      <td>sales</td>\n",
       "      <td>1</td>\n",
       "      <td>tunisia</td>\n",
       "      <td>4</td>\n",
       "      <td>5</td>\n",
       "      <td>1</td>\n",
       "      <td>0</td>\n",
       "      <td>1</td>\n",
       "      <td>1</td>\n",
       "      <td>1</td>\n",
       "      <td>Experiences</td>\n",
       "      <td>3</td>\n",
       "      <td>1</td>\n",
       "      <td>0</td>\n",
       "      <td>1</td>\n",
       "      <td>6</td>\n",
       "    </tr>\n",
       "    <tr>\n",
       "      <th>30</th>\n",
       "      <td>F</td>\n",
       "      <td>3</td>\n",
       "      <td>Marketing</td>\n",
       "      <td>1</td>\n",
       "      <td>morocco</td>\n",
       "      <td>4</td>\n",
       "      <td>4</td>\n",
       "      <td>0</td>\n",
       "      <td>1</td>\n",
       "      <td>0</td>\n",
       "      <td>0</td>\n",
       "      <td>1</td>\n",
       "      <td>Thank you card</td>\n",
       "      <td>3</td>\n",
       "      <td>1</td>\n",
       "      <td>1</td>\n",
       "      <td>0</td>\n",
       "      <td>4</td>\n",
       "    </tr>\n",
       "    <tr>\n",
       "      <th>31</th>\n",
       "      <td>M</td>\n",
       "      <td>9</td>\n",
       "      <td>G&amp;A</td>\n",
       "      <td>8</td>\n",
       "      <td>Casablanca</td>\n",
       "      <td>5</td>\n",
       "      <td>1</td>\n",
       "      <td>0</td>\n",
       "      <td>0</td>\n",
       "      <td>0</td>\n",
       "      <td>0</td>\n",
       "      <td>0</td>\n",
       "      <td>Cash</td>\n",
       "      <td>3</td>\n",
       "      <td>1</td>\n",
       "      <td>1</td>\n",
       "      <td>1</td>\n",
       "      <td>3</td>\n",
       "    </tr>\n",
       "    <tr>\n",
       "      <th>32</th>\n",
       "      <td>F</td>\n",
       "      <td>1</td>\n",
       "      <td>RRP</td>\n",
       "      <td>1</td>\n",
       "      <td>CASABLANCA</td>\n",
       "      <td>3</td>\n",
       "      <td>1</td>\n",
       "      <td>0</td>\n",
       "      <td>0</td>\n",
       "      <td>0</td>\n",
       "      <td>1</td>\n",
       "      <td>1</td>\n",
       "      <td>Thank you card</td>\n",
       "      <td>3</td>\n",
       "      <td>0</td>\n",
       "      <td>0</td>\n",
       "      <td>1</td>\n",
       "      <td>4</td>\n",
       "    </tr>\n",
       "    <tr>\n",
       "      <th>33</th>\n",
       "      <td>M</td>\n",
       "      <td>10</td>\n",
       "      <td>production</td>\n",
       "      <td>4</td>\n",
       "      <td>alger</td>\n",
       "      <td>3</td>\n",
       "      <td>1</td>\n",
       "      <td>0</td>\n",
       "      <td>0</td>\n",
       "      <td>1</td>\n",
       "      <td>1</td>\n",
       "      <td>1</td>\n",
       "      <td>Thank you card</td>\n",
       "      <td>5</td>\n",
       "      <td>1</td>\n",
       "      <td>0</td>\n",
       "      <td>0</td>\n",
       "      <td>7</td>\n",
       "    </tr>\n",
       "    <tr>\n",
       "      <th>34</th>\n",
       "      <td>M</td>\n",
       "      <td>7</td>\n",
       "      <td>production</td>\n",
       "      <td>3</td>\n",
       "      <td>alger</td>\n",
       "      <td>3</td>\n",
       "      <td>1</td>\n",
       "      <td>1</td>\n",
       "      <td>1</td>\n",
       "      <td>1</td>\n",
       "      <td>1</td>\n",
       "      <td>0</td>\n",
       "      <td>Experiences</td>\n",
       "      <td>4</td>\n",
       "      <td>1</td>\n",
       "      <td>0</td>\n",
       "      <td>1</td>\n",
       "      <td>1</td>\n",
       "    </tr>\n",
       "    <tr>\n",
       "      <th>35</th>\n",
       "      <td>M</td>\n",
       "      <td>10</td>\n",
       "      <td>HR</td>\n",
       "      <td>1</td>\n",
       "      <td>Algiers</td>\n",
       "      <td>4</td>\n",
       "      <td>2</td>\n",
       "      <td>1</td>\n",
       "      <td>1</td>\n",
       "      <td>0</td>\n",
       "      <td>0</td>\n",
       "      <td>1</td>\n",
       "      <td>Cash</td>\n",
       "      <td>3</td>\n",
       "      <td>0</td>\n",
       "      <td>0</td>\n",
       "      <td>1</td>\n",
       "      <td>6</td>\n",
       "    </tr>\n",
       "    <tr>\n",
       "      <th>36</th>\n",
       "      <td>F</td>\n",
       "      <td>7</td>\n",
       "      <td>HR</td>\n",
       "      <td>4</td>\n",
       "      <td>algiers</td>\n",
       "      <td>3</td>\n",
       "      <td>5</td>\n",
       "      <td>1</td>\n",
       "      <td>1</td>\n",
       "      <td>0</td>\n",
       "      <td>0</td>\n",
       "      <td>1</td>\n",
       "      <td>Thank you card</td>\n",
       "      <td>5</td>\n",
       "      <td>0</td>\n",
       "      <td>0</td>\n",
       "      <td>1</td>\n",
       "      <td>7</td>\n",
       "    </tr>\n",
       "    <tr>\n",
       "      <th>37</th>\n",
       "      <td>F</td>\n",
       "      <td>10</td>\n",
       "      <td>sales</td>\n",
       "      <td>8</td>\n",
       "      <td>algeria</td>\n",
       "      <td>3</td>\n",
       "      <td>3</td>\n",
       "      <td>1</td>\n",
       "      <td>0</td>\n",
       "      <td>1</td>\n",
       "      <td>0</td>\n",
       "      <td>0</td>\n",
       "      <td>Cash</td>\n",
       "      <td>3</td>\n",
       "      <td>0</td>\n",
       "      <td>0</td>\n",
       "      <td>1</td>\n",
       "      <td>5</td>\n",
       "    </tr>\n",
       "    <tr>\n",
       "      <th>38</th>\n",
       "      <td>M</td>\n",
       "      <td>4</td>\n",
       "      <td>Marketing</td>\n",
       "      <td>3</td>\n",
       "      <td>tunis</td>\n",
       "      <td>3</td>\n",
       "      <td>1</td>\n",
       "      <td>1</td>\n",
       "      <td>1</td>\n",
       "      <td>0</td>\n",
       "      <td>0</td>\n",
       "      <td>1</td>\n",
       "      <td>Thank you card</td>\n",
       "      <td>4</td>\n",
       "      <td>1</td>\n",
       "      <td>1</td>\n",
       "      <td>0</td>\n",
       "      <td>7</td>\n",
       "    </tr>\n",
       "    <tr>\n",
       "      <th>39</th>\n",
       "      <td>F</td>\n",
       "      <td>2</td>\n",
       "      <td>production</td>\n",
       "      <td>1</td>\n",
       "      <td>morocco</td>\n",
       "      <td>4</td>\n",
       "      <td>1</td>\n",
       "      <td>1</td>\n",
       "      <td>0</td>\n",
       "      <td>0</td>\n",
       "      <td>0</td>\n",
       "      <td>0</td>\n",
       "      <td>Thank you card</td>\n",
       "      <td>4</td>\n",
       "      <td>0</td>\n",
       "      <td>1</td>\n",
       "      <td>1</td>\n",
       "      <td>4</td>\n",
       "    </tr>\n",
       "    <tr>\n",
       "      <th>40</th>\n",
       "      <td>M</td>\n",
       "      <td>6</td>\n",
       "      <td>FINANCE</td>\n",
       "      <td>2</td>\n",
       "      <td>Casablanca</td>\n",
       "      <td>3</td>\n",
       "      <td>2</td>\n",
       "      <td>0</td>\n",
       "      <td>0</td>\n",
       "      <td>0</td>\n",
       "      <td>0</td>\n",
       "      <td>0</td>\n",
       "      <td>NaN</td>\n",
       "      <td>5</td>\n",
       "      <td>1</td>\n",
       "      <td>0</td>\n",
       "      <td>0</td>\n",
       "      <td>2</td>\n",
       "    </tr>\n",
       "    <tr>\n",
       "      <th>41</th>\n",
       "      <td>F</td>\n",
       "      <td>11</td>\n",
       "      <td>G&amp;A</td>\n",
       "      <td>1</td>\n",
       "      <td>alger</td>\n",
       "      <td>2</td>\n",
       "      <td>2</td>\n",
       "      <td>0</td>\n",
       "      <td>0</td>\n",
       "      <td>1</td>\n",
       "      <td>1</td>\n",
       "      <td>0</td>\n",
       "      <td>Thank you card</td>\n",
       "      <td>5</td>\n",
       "      <td>1</td>\n",
       "      <td>1</td>\n",
       "      <td>0</td>\n",
       "      <td>4</td>\n",
       "    </tr>\n",
       "    <tr>\n",
       "      <th>42</th>\n",
       "      <td>M</td>\n",
       "      <td>11</td>\n",
       "      <td>production</td>\n",
       "      <td>1</td>\n",
       "      <td>NaN</td>\n",
       "      <td>1</td>\n",
       "      <td>1</td>\n",
       "      <td>1</td>\n",
       "      <td>0</td>\n",
       "      <td>1</td>\n",
       "      <td>0</td>\n",
       "      <td>0</td>\n",
       "      <td>Thank you card</td>\n",
       "      <td>5</td>\n",
       "      <td>0</td>\n",
       "      <td>0</td>\n",
       "      <td>1</td>\n",
       "      <td>1</td>\n",
       "    </tr>\n",
       "  </tbody>\n",
       "</table>\n",
       "</div>"
      ],
      "text/plain": [
       "   SEXE  Experience_ans  Departement_JTI  Experience_poste_ans      Office  \\\n",
       "0     F               3              M&S                     1     Algiers   \n",
       "1     F               5          FINANCE                     3     ALGERIA   \n",
       "2     M               1              G&A                     1       Tunis   \n",
       "3     F              10  Trade marketing                     3     Tunisia   \n",
       "4     M               5        Marketing                     2     Tunisia   \n",
       "5     M               2               HR                     2  Casablanca   \n",
       "6   NaN               1        Marketing                     1     Algeria   \n",
       "7   NaN              11              G&A                     8  Casablanca   \n",
       "8     F               9          FINANCE                     6     Algiers   \n",
       "9     M               4   supply & chain                     4         NaN   \n",
       "10    M              10            sales                     7     ALGERIA   \n",
       "11    M               5              G&A                     2       tunis   \n",
       "12    M              11          FINANCE                     1     tunisia   \n",
       "13    F               4        Marketing                     2       alger   \n",
       "14    F               7               HR                     3       Alger   \n",
       "15    M               2              RRP                     1     morocco   \n",
       "16    F               5       accounting                     1         NaN   \n",
       "17    F               4       production                     2       tunis   \n",
       "18    F              10       production                     7  Casablanca   \n",
       "19    F               9       production                     4       alger   \n",
       "20    F               7          FINANCE                     5       alger   \n",
       "21    M              11               HR                     1     morocco   \n",
       "22    M               3              RRP                     2  Casablanca   \n",
       "23    F               5              G&A                     2     tunisia   \n",
       "24    M              11          FINANCE                     8     tunisia   \n",
       "25    F              10              G&A                     5       tunis   \n",
       "26    M              11              RRP                    10     algiers   \n",
       "27    M               5       accounting                     4     algeria   \n",
       "28    F               4       accounting                     1     ALGERIA   \n",
       "29    F               1            sales                     1     tunisia   \n",
       "30    F               3        Marketing                     1     morocco   \n",
       "31    M               9              G&A                     8  Casablanca   \n",
       "32    F               1              RRP                     1  CASABLANCA   \n",
       "33    M              10       production                     4       alger   \n",
       "34    M               7       production                     3       alger   \n",
       "35    M              10               HR                     1     Algiers   \n",
       "36    F               7               HR                     4     algiers   \n",
       "37    F              10            sales                     8     algeria   \n",
       "38    M               4        Marketing                     3       tunis   \n",
       "39    F               2       production                     1     morocco   \n",
       "40    M               6          FINANCE                     2  Casablanca   \n",
       "41    F              11              G&A                     1       alger   \n",
       "42    M              11       production                     1         NaN   \n",
       "\n",
       "    evaluation_benifice  evaluation_idee  creation_contenu  creation_video  \\\n",
       "0                     5                5                 1               1   \n",
       "1                     4                4                 0               0   \n",
       "2                     1                5                 0               1   \n",
       "3                     4                4                 0               0   \n",
       "4                     3                4                 1               0   \n",
       "5                     5                5                 1               0   \n",
       "6                     3                3                 1               1   \n",
       "7                     1                4                 0               1   \n",
       "8                     5                2                 1               1   \n",
       "9                     5                1                 0               1   \n",
       "10                    3                5                 1               0   \n",
       "11                    1                1                 0               1   \n",
       "12                    4                1                 0               0   \n",
       "13                    3                4                 0               0   \n",
       "14                    3                5                 1               1   \n",
       "15                    2                1                 1               0   \n",
       "16                    1                5                 0               1   \n",
       "17                    4                4                 1               0   \n",
       "18                    5                1                 1               0   \n",
       "19                    1                3                 0               1   \n",
       "20                    3                4                 1               0   \n",
       "21                    5                4                 0               1   \n",
       "22                    3                5                 1               0   \n",
       "23                    1                2                 1               1   \n",
       "24                    2                1                 0               0   \n",
       "25                    5                2                 1               1   \n",
       "26                    3                4                 1               1   \n",
       "27                    1                4                 0               0   \n",
       "28                    4                4                 1               1   \n",
       "29                    4                5                 1               0   \n",
       "30                    4                4                 0               1   \n",
       "31                    5                1                 0               0   \n",
       "32                    3                1                 0               0   \n",
       "33                    3                1                 0               0   \n",
       "34                    3                1                 1               1   \n",
       "35                    4                2                 1               1   \n",
       "36                    3                5                 1               1   \n",
       "37                    3                3                 1               0   \n",
       "38                    3                1                 1               1   \n",
       "39                    4                1                 1               0   \n",
       "40                    3                2                 0               0   \n",
       "41                    2                2                 0               0   \n",
       "42                    1                1                 1               0   \n",
       "\n",
       "    encadrement  consultation  creation_corrige_type      recompanse  \\\n",
       "0             1             1                      1           Gifts   \n",
       "1             0             1                      0  Thank you card   \n",
       "2             0             0                      0           Gifts   \n",
       "3             1             0                      0            Cash   \n",
       "4             0             0                      0            Cash   \n",
       "5             0             1                      0     Experiences   \n",
       "6             0             0                      0            Cash   \n",
       "7             1             0                      0  Thank you card   \n",
       "8             1             1                      1  Thank you card   \n",
       "9             0             1                      0            Cash   \n",
       "10            1             1                      0     Experiences   \n",
       "11            0             1                      0  Thank you card   \n",
       "12            1             0                      0     Experiences   \n",
       "13            1             1                      1     Experiences   \n",
       "14            0             1                      0     Experiences   \n",
       "15            1             0                      1     Experiences   \n",
       "16            0             0                      1     Experiences   \n",
       "17            0             1                      0  Thank you card   \n",
       "18            1             1                      1             NaN   \n",
       "19            0             0                      0  Thank you card   \n",
       "20            1             1                      0  Thank you card   \n",
       "21            1             1                      1  Thank you card   \n",
       "22            1             0                      0  Thank you card   \n",
       "23            1             0                      0  Thank you card   \n",
       "24            0             1                      1            Cash   \n",
       "25            0             0                      0  Thank you card   \n",
       "26            1             0                      0            Cash   \n",
       "27            0             0                      0            Cash   \n",
       "28            1             0                      1     Experiences   \n",
       "29            1             1                      1     Experiences   \n",
       "30            0             0                      1  Thank you card   \n",
       "31            0             0                      0            Cash   \n",
       "32            0             1                      1  Thank you card   \n",
       "33            1             1                      1  Thank you card   \n",
       "34            1             1                      0     Experiences   \n",
       "35            0             0                      1            Cash   \n",
       "36            0             0                      1  Thank you card   \n",
       "37            1             0                      0            Cash   \n",
       "38            0             0                      1  Thank you card   \n",
       "39            0             0                      0  Thank you card   \n",
       "40            0             0                      0             NaN   \n",
       "41            1             1                      0  Thank you card   \n",
       "42            1             0                      0  Thank you card   \n",
       "\n",
       "    evaluation_enthousiasme  exp_en_design  exp_en_encadrement  \\\n",
       "0                         5              0                   1   \n",
       "1                         1              0                   0   \n",
       "2                         2              0                   0   \n",
       "3                         4              1                   1   \n",
       "4                         4              1                   1   \n",
       "5                         5              1                   1   \n",
       "6                         3              1                   0   \n",
       "7                         4              0                   0   \n",
       "8                         5              0                   1   \n",
       "9                         4              0                   0   \n",
       "10                        5              0                   0   \n",
       "11                        4              1                   1   \n",
       "12                        4              1                   0   \n",
       "13                        5              1                   0   \n",
       "14                        5              0                   1   \n",
       "15                        4              1                   1   \n",
       "16                        4              1                   0   \n",
       "17                        3              0                   0   \n",
       "18                        5              1                   1   \n",
       "19                        5              0                   1   \n",
       "20                        4              0                   0   \n",
       "21                        5              1                   1   \n",
       "22                        5              0                   0   \n",
       "23                        4              1                   0   \n",
       "24                        5              0                   1   \n",
       "25                        4              0                   1   \n",
       "26                        3              1                   1   \n",
       "27                        4              0                   0   \n",
       "28                        3              0                   0   \n",
       "29                        3              1                   0   \n",
       "30                        3              1                   1   \n",
       "31                        3              1                   1   \n",
       "32                        3              0                   0   \n",
       "33                        5              1                   0   \n",
       "34                        4              1                   0   \n",
       "35                        3              0                   0   \n",
       "36                        5              0                   0   \n",
       "37                        3              0                   0   \n",
       "38                        4              1                   1   \n",
       "39                        4              0                   1   \n",
       "40                        5              1                   0   \n",
       "41                        5              1                   1   \n",
       "42                        5              0                   0   \n",
       "\n",
       "    besoin_de_formation  Heure  \n",
       "0                     1      2  \n",
       "1                     1      1  \n",
       "2                     1      3  \n",
       "3                     1      1  \n",
       "4                     1      2  \n",
       "5                     1      2  \n",
       "6                     1      1  \n",
       "7                     1      2  \n",
       "8                     1      4  \n",
       "9                     0      7  \n",
       "10                    1      5  \n",
       "11                    1      2  \n",
       "12                    1      2  \n",
       "13                    0      2  \n",
       "14                    1      6  \n",
       "15                    1      4  \n",
       "16                    1      3  \n",
       "17                    0      7  \n",
       "18                    1      6  \n",
       "19                    1      3  \n",
       "20                    1      7  \n",
       "21                    1      3  \n",
       "22                    1      7  \n",
       "23                    0      2  \n",
       "24                    1      6  \n",
       "25                    0      6  \n",
       "26                    1      6  \n",
       "27                    0      6  \n",
       "28                    1      1  \n",
       "29                    1      6  \n",
       "30                    0      4  \n",
       "31                    1      3  \n",
       "32                    1      4  \n",
       "33                    0      7  \n",
       "34                    1      1  \n",
       "35                    1      6  \n",
       "36                    1      7  \n",
       "37                    1      5  \n",
       "38                    0      7  \n",
       "39                    1      4  \n",
       "40                    0      2  \n",
       "41                    0      4  \n",
       "42                    1      1  "
      ]
     },
     "execution_count": 3,
     "metadata": {},
     "output_type": "execute_result"
    }
   ],
   "source": [
    "# Voila les 44 reponses (ligne) et 16 questions (colonne) que j'ai resume en un ou deux mot clé\n",
    "df"
   ]
  },
  {
   "cell_type": "markdown",
   "metadata": {},
   "source": [
    "#### Mes Variables:\n",
    "\n",
    "- **`SEXE`** : elle prend 2 valeur soit F: female ou M: male\n",
    "- **`Experience`** : le nombre d'annees que l'employe a travailler a JTI.\n",
    "- **`Departement_JTI`** : le departement en quel l'employe travail.\n",
    "- **`Experience_poste_ans`** : le nombre d'annees que l'employe travaille dans son poste actuel.\n",
    "- **`Office`** : le pays où travaille l'employe.\n",
    "- **`Evaluation_benifice`** : l'evaluation de l'enqueté d'apres son opinion (a un echele de 5: pire 1 ---> 5 meilleur ) le benifice des etudiants de cette platform.\n",
    "- **`Evaluation_idee`** : l'evaluation de l'enqueté d'apres son opinion (a un echele de 5: pire 1 ---> 5 meilleur ) le benifice de l'entreprise JTI de cette platform.\n",
    "- **`Creation_contenu`** : l'enqueté veut-il creer le contenu de la platform. (oui: 1 , non: 0)\n",
    "- **`Creation_video`** : l'enqueté veut-il apparaître dans les videos de la platform. (oui: 1 , non: 0)\n",
    "- **`Encadrement`** : l'enqueté veut-il encadre les etudiants utilisateurs de la platform. (oui: 1 , non: 0)\n",
    "- **`Consultation`** : l'enqueté veut-il repondre aux questions et difficultes des etudiants utilisateurs sur la platform. (oui: 1 , non: 0)\n",
    "- **`Creation_corrige_type`** : l'enqueté veut-il creer des corrige type des travail a faire sur la platform. (oui: 1 , non: 0)\n",
    "- **`recompance`** : l'enqueté veut-il être récompensé par de l'argent, de l'expérience, une carte de remerciement ou des cadeaux pour sa participation volontaire a la platforme.\n",
    "- **`Evaluation_Enthousiasme`** : l'evaluation de l'enqueté de son enthousiasme a participer a la platforme. (a un echele de 5: pire 1 ---> 5 meilleur )\n",
    "- **`exp_en_design`** : l'enqueté à-il une expérience dans le graphic design. (oui: 1 , non: 0)\n",
    "- **`exp_en_encadrement`** : l'enqueté à-il une expérience dans l'encadrement des stagiaires. (oui: 1 , non: 0)\n",
    "- **`besoin_de_formation`** : l'enqueté pense-il qu'il a besoin d'une formation pour mieux participer à la plateforme. (oui: 1 , non: 0)\n",
    "- **`heure`** : combien d'heures par semaine le répondant est-il prêt à consacrer à sa participation à la plateforme."
   ]
  },
  {
   "cell_type": "code",
   "execution_count": 4,
   "metadata": {},
   "outputs": [
    {
     "name": "stdout",
     "output_type": "stream",
     "text": [
      "le nombre de ligne : 43\n",
      "le nombre de colonne : 18\n"
     ]
    }
   ],
   "source": [
    "print('le nombre de ligne :', df.shape[0])\n",
    "print('le nombre de colonne :', df.shape[1])"
   ]
  },
  {
   "cell_type": "code",
   "execution_count": 5,
   "metadata": {},
   "outputs": [
    {
     "data": {
      "text/plain": [
       "SEXE                       object\n",
       "Experience_ans              int64\n",
       "Departement_JTI            object\n",
       "Experience_poste_ans        int64\n",
       "Office                     object\n",
       "evaluation_benifice         int64\n",
       "evaluation_idee             int64\n",
       "creation_contenu            int64\n",
       "creation_video              int64\n",
       "encadrement                 int64\n",
       "consultation                int64\n",
       "creation_corrige_type       int64\n",
       "recompanse                 object\n",
       "evaluation_enthousiasme     int64\n",
       "exp_en_design               int64\n",
       "exp_en_encadrement          int64\n",
       "besoin_de_formation         int64\n",
       "Heure                       int64\n",
       "dtype: object"
      ]
     },
     "execution_count": 5,
     "metadata": {},
     "output_type": "execute_result"
    }
   ],
   "source": [
    "# type des variables de la base de donnees\n",
    "df.dtypes"
   ]
  },
  {
   "cell_type": "code",
   "execution_count": 6,
   "metadata": {},
   "outputs": [
    {
     "data": {
      "text/plain": [
       "SEXE                       2\n",
       "Experience_ans             0\n",
       "Departement_JTI            0\n",
       "Experience_poste_ans       0\n",
       "Office                     3\n",
       "evaluation_benifice        0\n",
       "evaluation_idee            0\n",
       "creation_contenu           0\n",
       "creation_video             0\n",
       "encadrement                0\n",
       "consultation               0\n",
       "creation_corrige_type      0\n",
       "recompanse                 2\n",
       "evaluation_enthousiasme    0\n",
       "exp_en_design              0\n",
       "exp_en_encadrement         0\n",
       "besoin_de_formation        0\n",
       "Heure                      0\n",
       "dtype: int64"
      ]
     },
     "execution_count": 6,
     "metadata": {},
     "output_type": "execute_result"
    }
   ],
   "source": [
    "df.isnull().sum()"
   ]
  },
  {
   "cell_type": "markdown",
   "metadata": {},
   "source": [
    "il y a quelques valeurs manquantes (des non-reponses) que je vais redresser avec la methode d'imputation par le plus proche voisin (anglais: K nearest neighbor - KNN) apres."
   ]
  },
  {
   "cell_type": "code",
   "execution_count": 7,
   "metadata": {},
   "outputs": [
    {
     "data": {
      "text/plain": [
       "alger         6\n",
       "Casablanca    6\n",
       "morocco       4\n",
       "tunis         4\n",
       "tunisia       4\n",
       "ALGERIA       3\n",
       "Algiers       3\n",
       "algiers       2\n",
       "algeria       2\n",
       "Tunisia       2\n",
       "Algeria       1\n",
       "CASABLANCA    1\n",
       "Tunis         1\n",
       "Alger         1\n",
       "Name: Office, dtype: int64"
      ]
     },
     "execution_count": 7,
     "metadata": {},
     "output_type": "execute_result"
    }
   ],
   "source": [
    "# pour la variavle office, je vois que pour la même valeur a été écrite de différentes manières.\n",
    "df.Office.value_counts()"
   ]
  },
  {
   "cell_type": "code",
   "execution_count": 8,
   "metadata": {},
   "outputs": [
    {
     "data": {
      "text/plain": [
       "Algeria    18\n",
       "Tunisia    11\n",
       "Morocco    11\n",
       "Name: Office, dtype: int64"
      ]
     },
     "execution_count": 8,
     "metadata": {},
     "output_type": "execute_result"
    }
   ],
   "source": [
    "df.Office.replace(['alger', 'ALGERIA','Algiers','algiers', 'Alger','algeria'], 'Algeria' , inplace=True)\n",
    "df.Office.replace(['Casablanca', 'morocco','CASABLANCA'], 'Morocco' , inplace=True)\n",
    "df.Office.replace(['tunisia', 'tunis','tunis', 'Tunis'], 'Tunisia' , inplace=True)\n",
    "df.Office.value_counts()"
   ]
  },
  {
   "cell_type": "code",
   "execution_count": 9,
   "metadata": {},
   "outputs": [
    {
     "data": {
      "text/plain": [
       "0"
      ]
     },
     "execution_count": 9,
     "metadata": {},
     "output_type": "execute_result"
    }
   ],
   "source": [
    "# il n'y a pas de lignes en double\n",
    "df.duplicated().sum()"
   ]
  },
  {
   "cell_type": "markdown",
   "metadata": {},
   "source": [
    "il n'y a pas de ligne en double, cela donne une idée que la saisie des données a été effectuée correctement"
   ]
  },
  {
   "cell_type": "markdown",
   "metadata": {},
   "source": [
    "## Statistique descriptive :"
   ]
  },
  {
   "cell_type": "code",
   "execution_count": 10,
   "metadata": {},
   "outputs": [
    {
     "data": {
      "text/html": [
       "<div>\n",
       "<style scoped>\n",
       "    .dataframe tbody tr th:only-of-type {\n",
       "        vertical-align: middle;\n",
       "    }\n",
       "\n",
       "    .dataframe tbody tr th {\n",
       "        vertical-align: top;\n",
       "    }\n",
       "\n",
       "    .dataframe thead th {\n",
       "        text-align: right;\n",
       "    }\n",
       "</style>\n",
       "<table border=\"1\" class=\"dataframe\">\n",
       "  <thead>\n",
       "    <tr style=\"text-align: right;\">\n",
       "      <th></th>\n",
       "      <th>SEXE</th>\n",
       "      <th>Experience_ans</th>\n",
       "      <th>Departement_JTI</th>\n",
       "      <th>Experience_poste_ans</th>\n",
       "      <th>Office</th>\n",
       "      <th>evaluation_benifice</th>\n",
       "      <th>evaluation_idee</th>\n",
       "      <th>creation_contenu</th>\n",
       "      <th>creation_video</th>\n",
       "      <th>encadrement</th>\n",
       "      <th>consultation</th>\n",
       "      <th>creation_corrige_type</th>\n",
       "      <th>recompanse</th>\n",
       "      <th>evaluation_enthousiasme</th>\n",
       "      <th>exp_en_design</th>\n",
       "      <th>exp_en_encadrement</th>\n",
       "      <th>besoin_de_formation</th>\n",
       "      <th>Heure</th>\n",
       "    </tr>\n",
       "  </thead>\n",
       "  <tbody>\n",
       "    <tr>\n",
       "      <th>count</th>\n",
       "      <td>41</td>\n",
       "      <td>43</td>\n",
       "      <td>43</td>\n",
       "      <td>43</td>\n",
       "      <td>40</td>\n",
       "      <td>43</td>\n",
       "      <td>43</td>\n",
       "      <td>43</td>\n",
       "      <td>43</td>\n",
       "      <td>43</td>\n",
       "      <td>43</td>\n",
       "      <td>43</td>\n",
       "      <td>41</td>\n",
       "      <td>43</td>\n",
       "      <td>43</td>\n",
       "      <td>43</td>\n",
       "      <td>43</td>\n",
       "      <td>43</td>\n",
       "    </tr>\n",
       "    <tr>\n",
       "      <th>valeur unique</th>\n",
       "      <td>2</td>\n",
       "      <td>-</td>\n",
       "      <td>11</td>\n",
       "      <td>-</td>\n",
       "      <td>3</td>\n",
       "      <td>-</td>\n",
       "      <td>-</td>\n",
       "      <td>-</td>\n",
       "      <td>-</td>\n",
       "      <td>-</td>\n",
       "      <td>-</td>\n",
       "      <td>-</td>\n",
       "      <td>4</td>\n",
       "      <td>-</td>\n",
       "      <td>-</td>\n",
       "      <td>-</td>\n",
       "      <td>-</td>\n",
       "      <td>-</td>\n",
       "    </tr>\n",
       "    <tr>\n",
       "      <th>valeur la plus frequente</th>\n",
       "      <td>F</td>\n",
       "      <td>-</td>\n",
       "      <td>G&amp;A</td>\n",
       "      <td>-</td>\n",
       "      <td>Algeria</td>\n",
       "      <td>-</td>\n",
       "      <td>-</td>\n",
       "      <td>-</td>\n",
       "      <td>-</td>\n",
       "      <td>-</td>\n",
       "      <td>-</td>\n",
       "      <td>-</td>\n",
       "      <td>Thank you card</td>\n",
       "      <td>-</td>\n",
       "      <td>-</td>\n",
       "      <td>-</td>\n",
       "      <td>-</td>\n",
       "      <td>-</td>\n",
       "    </tr>\n",
       "    <tr>\n",
       "      <th>frequence</th>\n",
       "      <td>21</td>\n",
       "      <td>-</td>\n",
       "      <td>7</td>\n",
       "      <td>-</td>\n",
       "      <td>18</td>\n",
       "      <td>-</td>\n",
       "      <td>-</td>\n",
       "      <td>-</td>\n",
       "      <td>-</td>\n",
       "      <td>-</td>\n",
       "      <td>-</td>\n",
       "      <td>-</td>\n",
       "      <td>19</td>\n",
       "      <td>-</td>\n",
       "      <td>-</td>\n",
       "      <td>-</td>\n",
       "      <td>-</td>\n",
       "      <td>-</td>\n",
       "    </tr>\n",
       "    <tr>\n",
       "      <th>moyenne</th>\n",
       "      <td>-</td>\n",
       "      <td>6.44186</td>\n",
       "      <td>-</td>\n",
       "      <td>3.2093</td>\n",
       "      <td>-</td>\n",
       "      <td>3.13953</td>\n",
       "      <td>2.95349</td>\n",
       "      <td>0.55814</td>\n",
       "      <td>0.465116</td>\n",
       "      <td>0.488372</td>\n",
       "      <td>0.44186</td>\n",
       "      <td>0.372093</td>\n",
       "      <td>-</td>\n",
       "      <td>4.02326</td>\n",
       "      <td>0.488372</td>\n",
       "      <td>0.44186</td>\n",
       "      <td>0.744186</td>\n",
       "      <td>3.95349</td>\n",
       "    </tr>\n",
       "    <tr>\n",
       "      <th>ecart type</th>\n",
       "      <td>-</td>\n",
       "      <td>3.48673</td>\n",
       "      <td>-</td>\n",
       "      <td>2.53131</td>\n",
       "      <td>-</td>\n",
       "      <td>1.33776</td>\n",
       "      <td>1.58795</td>\n",
       "      <td>0.502486</td>\n",
       "      <td>0.504685</td>\n",
       "      <td>0.505781</td>\n",
       "      <td>0.502486</td>\n",
       "      <td>0.489083</td>\n",
       "      <td>-</td>\n",
       "      <td>0.963337</td>\n",
       "      <td>0.505781</td>\n",
       "      <td>0.502486</td>\n",
       "      <td>0.441481</td>\n",
       "      <td>2.13757</td>\n",
       "    </tr>\n",
       "    <tr>\n",
       "      <th>min</th>\n",
       "      <td>-</td>\n",
       "      <td>1</td>\n",
       "      <td>-</td>\n",
       "      <td>1</td>\n",
       "      <td>-</td>\n",
       "      <td>1</td>\n",
       "      <td>1</td>\n",
       "      <td>0</td>\n",
       "      <td>0</td>\n",
       "      <td>0</td>\n",
       "      <td>0</td>\n",
       "      <td>0</td>\n",
       "      <td>-</td>\n",
       "      <td>1</td>\n",
       "      <td>0</td>\n",
       "      <td>0</td>\n",
       "      <td>0</td>\n",
       "      <td>1</td>\n",
       "    </tr>\n",
       "    <tr>\n",
       "      <th>25%</th>\n",
       "      <td>-</td>\n",
       "      <td>4</td>\n",
       "      <td>-</td>\n",
       "      <td>1</td>\n",
       "      <td>-</td>\n",
       "      <td>2.5</td>\n",
       "      <td>1</td>\n",
       "      <td>0</td>\n",
       "      <td>0</td>\n",
       "      <td>0</td>\n",
       "      <td>0</td>\n",
       "      <td>0</td>\n",
       "      <td>-</td>\n",
       "      <td>3</td>\n",
       "      <td>0</td>\n",
       "      <td>0</td>\n",
       "      <td>0.5</td>\n",
       "      <td>2</td>\n",
       "    </tr>\n",
       "    <tr>\n",
       "      <th>50%</th>\n",
       "      <td>-</td>\n",
       "      <td>6</td>\n",
       "      <td>-</td>\n",
       "      <td>2</td>\n",
       "      <td>-</td>\n",
       "      <td>3</td>\n",
       "      <td>3</td>\n",
       "      <td>1</td>\n",
       "      <td>0</td>\n",
       "      <td>0</td>\n",
       "      <td>0</td>\n",
       "      <td>0</td>\n",
       "      <td>-</td>\n",
       "      <td>4</td>\n",
       "      <td>0</td>\n",
       "      <td>0</td>\n",
       "      <td>1</td>\n",
       "      <td>4</td>\n",
       "    </tr>\n",
       "    <tr>\n",
       "      <th>75%</th>\n",
       "      <td>-</td>\n",
       "      <td>10</td>\n",
       "      <td>-</td>\n",
       "      <td>4</td>\n",
       "      <td>-</td>\n",
       "      <td>4</td>\n",
       "      <td>4</td>\n",
       "      <td>1</td>\n",
       "      <td>1</td>\n",
       "      <td>1</td>\n",
       "      <td>1</td>\n",
       "      <td>1</td>\n",
       "      <td>-</td>\n",
       "      <td>5</td>\n",
       "      <td>1</td>\n",
       "      <td>1</td>\n",
       "      <td>1</td>\n",
       "      <td>6</td>\n",
       "    </tr>\n",
       "    <tr>\n",
       "      <th>max</th>\n",
       "      <td>-</td>\n",
       "      <td>11</td>\n",
       "      <td>-</td>\n",
       "      <td>10</td>\n",
       "      <td>-</td>\n",
       "      <td>5</td>\n",
       "      <td>5</td>\n",
       "      <td>1</td>\n",
       "      <td>1</td>\n",
       "      <td>1</td>\n",
       "      <td>1</td>\n",
       "      <td>1</td>\n",
       "      <td>-</td>\n",
       "      <td>5</td>\n",
       "      <td>1</td>\n",
       "      <td>1</td>\n",
       "      <td>1</td>\n",
       "      <td>7</td>\n",
       "    </tr>\n",
       "  </tbody>\n",
       "</table>\n",
       "</div>"
      ],
      "text/plain": [
       "                         SEXE Experience_ans Departement_JTI  \\\n",
       "count                      41             43              43   \n",
       "valeur unique               2              -              11   \n",
       "valeur la plus frequente    F              -             G&A   \n",
       "frequence                  21              -               7   \n",
       "moyenne                     -        6.44186               -   \n",
       "ecart type                  -        3.48673               -   \n",
       "min                         -              1               -   \n",
       "25%                         -              4               -   \n",
       "50%                         -              6               -   \n",
       "75%                         -             10               -   \n",
       "max                         -             11               -   \n",
       "\n",
       "                         Experience_poste_ans   Office evaluation_benifice  \\\n",
       "count                                      43       40                  43   \n",
       "valeur unique                               -        3                   -   \n",
       "valeur la plus frequente                    -  Algeria                   -   \n",
       "frequence                                   -       18                   -   \n",
       "moyenne                                3.2093        -             3.13953   \n",
       "ecart type                            2.53131        -             1.33776   \n",
       "min                                         1        -                   1   \n",
       "25%                                         1        -                 2.5   \n",
       "50%                                         2        -                   3   \n",
       "75%                                         4        -                   4   \n",
       "max                                        10        -                   5   \n",
       "\n",
       "                         evaluation_idee creation_contenu creation_video  \\\n",
       "count                                 43               43             43   \n",
       "valeur unique                          -                -              -   \n",
       "valeur la plus frequente               -                -              -   \n",
       "frequence                              -                -              -   \n",
       "moyenne                          2.95349          0.55814       0.465116   \n",
       "ecart type                       1.58795         0.502486       0.504685   \n",
       "min                                    1                0              0   \n",
       "25%                                    1                0              0   \n",
       "50%                                    3                1              0   \n",
       "75%                                    4                1              1   \n",
       "max                                    5                1              1   \n",
       "\n",
       "                         encadrement consultation creation_corrige_type  \\\n",
       "count                             43           43                    43   \n",
       "valeur unique                      -            -                     -   \n",
       "valeur la plus frequente           -            -                     -   \n",
       "frequence                          -            -                     -   \n",
       "moyenne                     0.488372      0.44186              0.372093   \n",
       "ecart type                  0.505781     0.502486              0.489083   \n",
       "min                                0            0                     0   \n",
       "25%                                0            0                     0   \n",
       "50%                                0            0                     0   \n",
       "75%                                1            1                     1   \n",
       "max                                1            1                     1   \n",
       "\n",
       "                              recompanse evaluation_enthousiasme  \\\n",
       "count                                 41                      43   \n",
       "valeur unique                          4                       -   \n",
       "valeur la plus frequente  Thank you card                       -   \n",
       "frequence                             19                       -   \n",
       "moyenne                                -                 4.02326   \n",
       "ecart type                             -                0.963337   \n",
       "min                                    -                       1   \n",
       "25%                                    -                       3   \n",
       "50%                                    -                       4   \n",
       "75%                                    -                       5   \n",
       "max                                    -                       5   \n",
       "\n",
       "                         exp_en_design exp_en_encadrement besoin_de_formation  \\\n",
       "count                               43                 43                  43   \n",
       "valeur unique                        -                  -                   -   \n",
       "valeur la plus frequente             -                  -                   -   \n",
       "frequence                            -                  -                   -   \n",
       "moyenne                       0.488372            0.44186            0.744186   \n",
       "ecart type                    0.505781           0.502486            0.441481   \n",
       "min                                  0                  0                   0   \n",
       "25%                                  0                  0                 0.5   \n",
       "50%                                  0                  0                   1   \n",
       "75%                                  1                  1                   1   \n",
       "max                                  1                  1                   1   \n",
       "\n",
       "                            Heure  \n",
       "count                          43  \n",
       "valeur unique                   -  \n",
       "valeur la plus frequente        -  \n",
       "frequence                       -  \n",
       "moyenne                   3.95349  \n",
       "ecart type                2.13757  \n",
       "min                             1  \n",
       "25%                             2  \n",
       "50%                             4  \n",
       "75%                             6  \n",
       "max                             7  "
      ]
     },
     "execution_count": 10,
     "metadata": {},
     "output_type": "execute_result"
    }
   ],
   "source": [
    "a = df.describe(include= 'all')\n",
    "a.rename(index={'unique': 'valeur unique', 'top': 'valeur la plus frequente', 'freq': 'frequence', 'mean': 'moyenne', 'std': 'ecart type'}, inplace=True)\n",
    "a.fillna('-')"
   ]
  },
  {
   "cell_type": "markdown",
   "metadata": {},
   "source": [
    "- pour chaque variable qualitative, on vois le nombre de ses valeurs uniques, la valeur la plus frequente et la frequence de cette valeur.\n",
    "\n",
    "- pour les variables quantitatives, on a la moyenne, l'ecart type, le min et le max et aussi les quartiles."
   ]
  },
  {
   "cell_type": "markdown",
   "metadata": {},
   "source": [
    "### Redressement des non-reponses:"
   ]
  },
  {
   "cell_type": "markdown",
   "metadata": {},
   "source": [
    "La methode que je vais utiliser pour redresser les non-reponses est l'imputation par la moyenne simple des non-repondants pour les valeur numerique, et par la valeur la plus fréquente (le mode) pour les valeur qualitatives."
   ]
  },
  {
   "cell_type": "code",
   "execution_count": 11,
   "metadata": {},
   "outputs": [
    {
     "data": {
      "text/plain": [
       "SEXE                       2\n",
       "Experience_ans             0\n",
       "Departement_JTI            0\n",
       "Experience_poste_ans       0\n",
       "Office                     3\n",
       "evaluation_benifice        0\n",
       "evaluation_idee            0\n",
       "creation_contenu           0\n",
       "creation_video             0\n",
       "encadrement                0\n",
       "consultation               0\n",
       "creation_corrige_type      0\n",
       "recompanse                 2\n",
       "evaluation_enthousiasme    0\n",
       "exp_en_design              0\n",
       "exp_en_encadrement         0\n",
       "besoin_de_formation        0\n",
       "Heure                      0\n",
       "dtype: int64"
      ]
     },
     "execution_count": 11,
     "metadata": {},
     "output_type": "execute_result"
    }
   ],
   "source": [
    "# les non reponses :\n",
    "\n",
    "df.isnull().sum()"
   ]
  },
  {
   "cell_type": "markdown",
   "metadata": {},
   "source": [
    "au total, j'ai 7 valeurs manquantes, 2 d'entre elles dans la variable SEXE, 3 dans la variable Office et 2 en recompanse"
   ]
  },
  {
   "cell_type": "markdown",
   "metadata": {},
   "source": [
    "#### SEXE :"
   ]
  },
  {
   "cell_type": "markdown",
   "metadata": {},
   "source": [
    "cette variable est qualitative, je vais chercher la valeur la plus frequente de cette variable"
   ]
  },
  {
   "cell_type": "code",
   "execution_count": 12,
   "metadata": {},
   "outputs": [
    {
     "data": {
      "text/plain": [
       "F    21\n",
       "M    20\n",
       "Name: SEXE, dtype: int64"
      ]
     },
     "execution_count": 12,
     "metadata": {},
     "output_type": "execute_result"
    }
   ],
   "source": [
    "df.SEXE.value_counts()"
   ]
  },
  {
   "cell_type": "markdown",
   "metadata": {},
   "source": [
    "nous remarquons qu'il y a plus de femmes que d'hommes parmi mes répondants. Par conséquent, je définirai la valeur de mes non-réponses sur \"F\", Femme."
   ]
  },
  {
   "cell_type": "code",
   "execution_count": 13,
   "metadata": {},
   "outputs": [],
   "source": [
    "df.SEXE.fillna('F', inplace=True)"
   ]
  },
  {
   "cell_type": "markdown",
   "metadata": {},
   "source": [
    "#### Office :"
   ]
  },
  {
   "cell_type": "markdown",
   "metadata": {},
   "source": [
    "le meme concept est applique"
   ]
  },
  {
   "cell_type": "code",
   "execution_count": 14,
   "metadata": {},
   "outputs": [
    {
     "data": {
      "text/plain": [
       "Algeria    18\n",
       "Tunisia    11\n",
       "Morocco    11\n",
       "Name: Office, dtype: int64"
      ]
     },
     "execution_count": 14,
     "metadata": {},
     "output_type": "execute_result"
    }
   ],
   "source": [
    "df.Office.value_counts()"
   ]
  },
  {
   "cell_type": "markdown",
   "metadata": {},
   "source": [
    "\"Algeria\" est la valeur la plus frequente."
   ]
  },
  {
   "cell_type": "code",
   "execution_count": 15,
   "metadata": {},
   "outputs": [],
   "source": [
    "df.Office.fillna('Algeria', inplace=True)"
   ]
  },
  {
   "cell_type": "markdown",
   "metadata": {},
   "source": [
    "#### recompanse :"
   ]
  },
  {
   "cell_type": "code",
   "execution_count": 16,
   "metadata": {},
   "outputs": [
    {
     "data": {
      "text/plain": [
       "Thank you card    19\n",
       "Experiences       10\n",
       "Cash              10\n",
       "Gifts              2\n",
       "Name: recompanse, dtype: int64"
      ]
     },
     "execution_count": 16,
     "metadata": {},
     "output_type": "execute_result"
    }
   ],
   "source": [
    "df.recompanse.value_counts()"
   ]
  },
  {
   "cell_type": "code",
   "execution_count": 17,
   "metadata": {},
   "outputs": [],
   "source": [
    "df.recompanse.fillna('Thank you card', inplace=True)"
   ]
  },
  {
   "cell_type": "code",
   "execution_count": 18,
   "metadata": {},
   "outputs": [
    {
     "data": {
      "text/plain": [
       "SEXE                       0\n",
       "Experience_ans             0\n",
       "Departement_JTI            0\n",
       "Experience_poste_ans       0\n",
       "Office                     0\n",
       "evaluation_benifice        0\n",
       "evaluation_idee            0\n",
       "creation_contenu           0\n",
       "creation_video             0\n",
       "encadrement                0\n",
       "consultation               0\n",
       "creation_corrige_type      0\n",
       "recompanse                 0\n",
       "evaluation_enthousiasme    0\n",
       "exp_en_design              0\n",
       "exp_en_encadrement         0\n",
       "besoin_de_formation        0\n",
       "Heure                      0\n",
       "dtype: int64"
      ]
     },
     "execution_count": 18,
     "metadata": {},
     "output_type": "execute_result"
    }
   ],
   "source": [
    "# verifiant qu'on a redresse tout les non-reponses :\n",
    "\n",
    "df.isnull().sum()"
   ]
  },
  {
   "cell_type": "markdown",
   "metadata": {},
   "source": [
    "## Analyse Univariee"
   ]
  },
  {
   "cell_type": "markdown",
   "metadata": {},
   "source": [
    "Tout d'abord, une analyse univariée de mes variables."
   ]
  },
  {
   "cell_type": "code",
   "execution_count": 19,
   "metadata": {},
   "outputs": [
    {
     "data": {
      "image/png": "[encoded data removed]",
      "text/plain": [
       "<Figure size 432x288 with 1 Axes>"
      ]
     },
     "metadata": {
      "needs_background": "light"
     },
     "output_type": "display_data"
    }
   ],
   "source": [
    "sns.countplot(x = 'SEXE', data = df, palette = 'magma')\n",
    "plt.title('nombre de répondants par sexe');"
   ]
  },
  {
   "cell_type": "markdown",
   "metadata": {},
   "source": [
    "on note qu'il y a plus de femmes que d'hommes"
   ]
  },
  {
   "cell_type": "code",
   "execution_count": 20,
   "metadata": {},
   "outputs": [
    {
     "data": {
      "image/png": "[encoded data removed]",
      "text/plain": [
       "<Figure size 432x288 with 1 Axes>"
      ]
     },
     "metadata": {
      "needs_background": "light"
     },
     "output_type": "display_data"
    }
   ],
   "source": [
    "binsize = 1\n",
    "bins = np.arange(0, 14, binsize)\n",
    "plt.hist(data = df, x = 'Experience_ans', bins = bins)\n",
    "plt.title('histograme des experiences des repondants (ans)')\n",
    "plt.xlabel('années');"
   ]
  },
  {
   "cell_type": "markdown",
   "metadata": {},
   "source": [
    "- on a pas de repondant avec 8 ans d'experience a JTI.\n",
    "- 14 repondants on plus que 10 and d'experience avec JTI."
   ]
  },
  {
   "cell_type": "code",
   "execution_count": 21,
   "metadata": {},
   "outputs": [
    {
     "data": {
      "image/png": "[encoded data removed]",
      "text/plain": [
       "<Figure size 432x288 with 1 Axes>"
      ]
     },
     "metadata": {
      "needs_background": "light"
     },
     "output_type": "display_data"
    }
   ],
   "source": [
    "sns.countplot(y = 'Departement_JTI', data = df, palette = 'magma')\n",
    "plt.title('Nombre de repondants par leurs departements')\n",
    "plt.ylabel('departement');"
   ]
  },
  {
   "cell_type": "markdown",
   "metadata": {},
   "source": [
    "- les departements les plus presentes sont : production et G&A avec 7 repondants chacun.\n",
    "- Finance, Marketing et HR viennent en second en termes de fréquence."
   ]
  },
  {
   "cell_type": "code",
   "execution_count": 22,
   "metadata": {},
   "outputs": [
    {
     "data": {
      "image/png": "[encoded data removed]",
      "text/plain": [
       "<Figure size 432x288 with 1 Axes>"
      ]
     },
     "metadata": {
      "needs_background": "light"
     },
     "output_type": "display_data"
    }
   ],
   "source": [
    "binsize = 1\n",
    "bins = np.arange(0, 14, binsize)\n",
    "plt.hist(data = df, x = 'Experience_poste_ans', bins = bins)\n",
    "plt.title('histograme des experiences des repondants dans leurs postes actuel (ans)')\n",
    "plt.xlabel('années');"
   ]
  },
  {
   "cell_type": "markdown",
   "metadata": {},
   "source": [
    "- Je remarque que la plupart des répondants n'ont qu'une année d'expérience dans leurs postes actuels."
   ]
  },
  {
   "cell_type": "code",
   "execution_count": 23,
   "metadata": {},
   "outputs": [
    {
     "data": {
      "image/png": "[encoded data removed]",
      "text/plain": [
       "<Figure size 432x288 with 1 Axes>"
      ]
     },
     "metadata": {
      "needs_background": "light"
     },
     "output_type": "display_data"
    }
   ],
   "source": [
    "sns.countplot(x = 'Office', data = df, palette = 'magma')\n",
    "plt.title('nombre de répondants par Office');"
   ]
  },
  {
   "cell_type": "markdown",
   "metadata": {},
   "source": [
    "- il y a plus d'employes de l'office d'Algerie. (20 employes)\n",
    "- l'office de la Tunisie et le Marroc on 10 repondants chacun."
   ]
  },
  {
   "cell_type": "code",
   "execution_count": 24,
   "metadata": {},
   "outputs": [
    {
     "data": {
      "image/png": "[encoded data removed]",
      "text/plain": [
       "<Figure size 1080x360 with 3 Axes>"
      ]
     },
     "metadata": {
      "needs_background": "light"
     },
     "output_type": "display_data"
    }
   ],
   "source": [
    "plt.figure(figsize=[15, 5])\n",
    "\n",
    "# le tracé de gauche\n",
    "plt.subplot(1,3,1)\n",
    "sns.countplot(x = 'evaluation_benifice', data = df, palette = 'magma')\n",
    "plt.title('le benifice des etudiants de cette platform')\n",
    "\n",
    "# le trace du milieu\n",
    "plt.subplot(1,3,2)\n",
    "sns.countplot(x = 'evaluation_idee', data = df, palette = 'magma')\n",
    "plt.title('le benifice de JTI de cette platform.')\n",
    "\n",
    "# le tracé à droite\n",
    "plt.subplot(1,3,3)\n",
    "sns.countplot(x = 'evaluation_enthousiasme', data = df, palette = 'magma')\n",
    "plt.title(\"Niveau d'enthousiasme des repondants a participer\");"
   ]
  },
  {
   "cell_type": "markdown",
   "metadata": {},
   "source": [
    "- Pour le benifice des etudiants de la platform, la plupart des repondants ne vois pas la platform tres benificiaire. a un echelle de 5 ( 1 -- > 5 ), la valeur la plus frequente est 3.\n",
    "\n",
    "- Pour le benifice de l'entreprise JTI de la platform, 13 repondants ont la platform inutile (=1), mais 12 autres l'ont donner la note 4/5 c'est a dire utile.\n",
    "\n",
    "- Pour l'enthousiasme, la plupart des repondants (plus que 31) sont très heureux de participer à la plateforme (>= 4/5)"
   ]
  },
  {
   "cell_type": "code",
   "execution_count": 25,
   "metadata": {},
   "outputs": [
    {
     "data": {
      "image/png": "[encoded data removed]",
      "text/plain": [
       "<Figure size 1080x720 with 5 Axes>"
      ]
     },
     "metadata": {
      "needs_background": "light"
     },
     "output_type": "display_data"
    }
   ],
   "source": [
    "plt.figure(figsize=[15, 10])\n",
    "names = ['non', 'oui']\n",
    "\n",
    "plt.subplot(2,3,1)\n",
    "sns.countplot(x = 'creation_contenu' , data = df, palette = 'magma')\n",
    "plt.title('participation par creation de contenu')\n",
    "plt.xlabel('')\n",
    "plt.xticks(ticks = [0,1], labels= names)\n",
    "\n",
    "plt.subplot(2, 3,2)\n",
    "sns.countplot(x = 'creation_video', data = df, palette = 'magma')\n",
    "plt.title('participation par creation de video')\n",
    "plt.xlabel('')\n",
    "plt.xticks(ticks = [0,1], labels= names)\n",
    "\n",
    "plt.subplot(2,3,3)\n",
    "sns.countplot(x = 'creation_corrige_type', data = df, palette = 'magma')\n",
    "plt.title(\"participation par creation de corrige-type\")\n",
    "plt.xlabel('')\n",
    "plt.xticks(ticks = [0,1], labels= names)\n",
    "\n",
    "plt.subplot(2,3,4)\n",
    "sns.countplot(x = 'encadrement', data = df, palette = 'magma')\n",
    "plt.title(\"participation par encadrement des etudiants\")\n",
    "plt.xlabel('')\n",
    "plt.xticks(ticks = [0,1], labels= names)\n",
    "\n",
    "plt.subplot(2,3,5)\n",
    "sns.countplot(x = 'consultation', data = df, palette = 'magma')\n",
    "plt.title(\"participation par consultation\")\n",
    "plt.xlabel('')\n",
    "plt.xticks(ticks = [0,1], labels= names);"
   ]
  },
  {
   "cell_type": "markdown",
   "metadata": {},
   "source": [
    "- la plupart des repondants ne veulent pas participer a creer des corrige-type ni de faire la consultation.\n",
    "- il y a plus de repondants qui veulent creer de contenu.\n",
    "- l'encadrement des etudiants et la creation de video aussi n'attirent pas beaucoup de repondants."
   ]
  },
  {
   "cell_type": "code",
   "execution_count": 26,
   "metadata": {},
   "outputs": [
    {
     "data": {
      "image/png": "[encoded data removed]",
      "text/plain": [
       "<Figure size 432x288 with 1 Axes>"
      ]
     },
     "metadata": {
      "needs_background": "light"
     },
     "output_type": "display_data"
    }
   ],
   "source": [
    "sns.countplot(x = 'recompanse', data = df, palette = 'magma')\n",
    "plt.title('nombre de répondants par la recompanse desiree');"
   ]
  },
  {
   "cell_type": "markdown",
   "metadata": {},
   "source": [
    "la plupart des repondants veulent une carte de remerciment comme recompanse a leurs participations."
   ]
  },
  {
   "cell_type": "code",
   "execution_count": 27,
   "metadata": {},
   "outputs": [
    {
     "data": {
      "image/png": "[encoded data removed]",
      "text/plain": [
       "<Figure size 1440x432 with 3 Axes>"
      ]
     },
     "metadata": {
      "needs_background": "light"
     },
     "output_type": "display_data"
    }
   ],
   "source": [
    "plt.figure(figsize=[20, 6])\n",
    "\n",
    "# le tracé de gauche\n",
    "plt.subplot(1,3,1)\n",
    "sns.countplot(x = 'exp_en_design', data = df, palette = 'magma')\n",
    "plt.title('experience en design')\n",
    "plt.xlabel('')\n",
    "plt.xticks(ticks = [0,1], labels= names)\n",
    "\n",
    "# le trace du milieu\n",
    "plt.subplot(1,3,2)\n",
    "sns.countplot(x = 'exp_en_encadrement', data = df, palette = 'magma')\n",
    "plt.title('experience en encadrement')\n",
    "plt.xlabel('')\n",
    "plt.xticks(ticks = [0,1], labels= names)\n",
    "\n",
    "# le tracé à droite\n",
    "plt.subplot(1,3,3)\n",
    "sns.countplot(x = 'besoin_de_formation', data = df, palette = 'magma')\n",
    "plt.title(\"besoin de formation\")\n",
    "plt.xlabel('')\n",
    "plt.xticks(ticks = [0,1], labels= names);"
   ]
  },
  {
   "cell_type": "markdown",
   "metadata": {},
   "source": [
    "- la plupart n'ont pas d'experience ni en design ni en encadrement et ils ont besoin d'atteindre une formation pour pouvoir participer a la platform"
   ]
  },
  {
   "cell_type": "code",
   "execution_count": 28,
   "metadata": {},
   "outputs": [
    {
     "data": {
      "image/png": "[encoded data removed]",
      "text/plain": [
       "<Figure size 432x288 with 1 Axes>"
      ]
     },
     "metadata": {
      "needs_background": "light"
     },
     "output_type": "display_data"
    }
   ],
   "source": [
    "binsize = 1\n",
    "bins = np.arange(0, 10, binsize)\n",
    "plt.hist(data = df, x = 'Heure', bins = bins)\n",
    "plt.title('le temps que les répondants sont prêts à consacrer à la participation (h) ')\n",
    "plt.xlabel('heures');"
   ]
  },
  {
   "cell_type": "markdown",
   "metadata": {},
   "source": [
    "- beaucoup des employes sont pres a consacrer plus que 6 heures par semaine a la participation sur la platform.\n",
    "- la plupart d'eux veulent consacrer que 2 heures par semaine."
   ]
  },
  {
   "cell_type": "markdown",
   "metadata": {},
   "source": [
    "## Analyse Multivariee:"
   ]
  },
  {
   "cell_type": "markdown",
   "metadata": {},
   "source": [
    "Puisque je suis intéressé de savoir à quel point les employés sont intéressés à participer à la plateforme et combien d'heures ils sont prêts à consacrer chaque semaine, je considérerai les variables: \"Evaluation_enthousiasme\" et \"Heures\" mes variables d'intérêt et je chercherai toute corrélation entre eux et le reste des variables."
   ]
  },
  {
   "cell_type": "markdown",
   "metadata": {},
   "source": [
    "### Variables Qualitatives :"
   ]
  },
  {
   "cell_type": "markdown",
   "metadata": {},
   "source": [
    "Je vais commencer par la corrélation avec mes variables qualitatives"
   ]
  },
  {
   "cell_type": "code",
   "execution_count": 29,
   "metadata": {},
   "outputs": [
    {
     "data": {
      "text/html": [
       "<div>\n",
       "<style scoped>\n",
       "    .dataframe tbody tr th:only-of-type {\n",
       "        vertical-align: middle;\n",
       "    }\n",
       "\n",
       "    .dataframe tbody tr th {\n",
       "        vertical-align: top;\n",
       "    }\n",
       "\n",
       "    .dataframe thead th {\n",
       "        text-align: right;\n",
       "    }\n",
       "</style>\n",
       "<table border=\"1\" class=\"dataframe\">\n",
       "  <thead>\n",
       "    <tr style=\"text-align: right;\">\n",
       "      <th>SEXE</th>\n",
       "      <th>F</th>\n",
       "      <th>M</th>\n",
       "    </tr>\n",
       "    <tr>\n",
       "      <th>evaluation_enthousiasme</th>\n",
       "      <th></th>\n",
       "      <th></th>\n",
       "    </tr>\n",
       "  </thead>\n",
       "  <tbody>\n",
       "    <tr>\n",
       "      <th>1</th>\n",
       "      <td>1</td>\n",
       "      <td>0</td>\n",
       "    </tr>\n",
       "    <tr>\n",
       "      <th>2</th>\n",
       "      <td>0</td>\n",
       "      <td>1</td>\n",
       "    </tr>\n",
       "    <tr>\n",
       "      <th>3</th>\n",
       "      <td>7</td>\n",
       "      <td>3</td>\n",
       "    </tr>\n",
       "    <tr>\n",
       "      <th>4</th>\n",
       "      <td>7</td>\n",
       "      <td>8</td>\n",
       "    </tr>\n",
       "    <tr>\n",
       "      <th>5</th>\n",
       "      <td>8</td>\n",
       "      <td>8</td>\n",
       "    </tr>\n",
       "  </tbody>\n",
       "</table>\n",
       "</div>"
      ],
      "text/plain": [
       "SEXE                     F  M\n",
       "evaluation_enthousiasme      \n",
       "1                        1  0\n",
       "2                        0  1\n",
       "3                        7  3\n",
       "4                        7  8\n",
       "5                        8  8"
      ]
     },
     "execution_count": 29,
     "metadata": {},
     "output_type": "execute_result"
    }
   ],
   "source": [
    "pd.crosstab(df['evaluation_enthousiasme'] , df['SEXE'])"
   ]
  },
  {
   "cell_type": "code",
   "execution_count": 30,
   "metadata": {},
   "outputs": [
    {
     "data": {
      "image/png": "[encoded data removed]",
      "text/plain": [
       "<Figure size 402.375x360 with 1 Axes>"
      ]
     },
     "metadata": {
      "needs_background": "light"
     },
     "output_type": "display_data"
    }
   ],
   "source": [
    "sns.catplot(x=\"SEXE\", y = 'evaluation_enthousiasme',hue= 'Heure', kind=\"bar\", data=df, palette = 'magma')\n",
    "plt.title(\"Evaluation d'enthousiasme par sexe et temps a consacrer\");"
   ]
  },
  {
   "cell_type": "markdown",
   "metadata": {},
   "source": [
    "- en moyenne, les hommes sont plus enthousiastes que les femmes à participer\n",
    "- les hommes sont pres a consacrer plus de temps a la participation."
   ]
  },
  {
   "cell_type": "code",
   "execution_count": 31,
   "metadata": {},
   "outputs": [
    {
     "data": {
      "text/html": [
       "<div>\n",
       "<style scoped>\n",
       "    .dataframe tbody tr th:only-of-type {\n",
       "        vertical-align: middle;\n",
       "    }\n",
       "\n",
       "    .dataframe tbody tr th {\n",
       "        vertical-align: top;\n",
       "    }\n",
       "\n",
       "    .dataframe thead th {\n",
       "        text-align: right;\n",
       "    }\n",
       "</style>\n",
       "<table border=\"1\" class=\"dataframe\">\n",
       "  <thead>\n",
       "    <tr style=\"text-align: right;\">\n",
       "      <th>Departement_JTI</th>\n",
       "      <th>FINANCE</th>\n",
       "      <th>G&amp;A</th>\n",
       "      <th>HR</th>\n",
       "      <th>M&amp;S</th>\n",
       "      <th>Marketing</th>\n",
       "      <th>RRP</th>\n",
       "      <th>Trade marketing</th>\n",
       "      <th>accounting</th>\n",
       "      <th>production</th>\n",
       "      <th>sales</th>\n",
       "      <th>supply &amp; chain</th>\n",
       "    </tr>\n",
       "    <tr>\n",
       "      <th>evaluation_enthousiasme</th>\n",
       "      <th></th>\n",
       "      <th></th>\n",
       "      <th></th>\n",
       "      <th></th>\n",
       "      <th></th>\n",
       "      <th></th>\n",
       "      <th></th>\n",
       "      <th></th>\n",
       "      <th></th>\n",
       "      <th></th>\n",
       "      <th></th>\n",
       "    </tr>\n",
       "  </thead>\n",
       "  <tbody>\n",
       "    <tr>\n",
       "      <th>1</th>\n",
       "      <td>1</td>\n",
       "      <td>0</td>\n",
       "      <td>0</td>\n",
       "      <td>0</td>\n",
       "      <td>0</td>\n",
       "      <td>0</td>\n",
       "      <td>0</td>\n",
       "      <td>0</td>\n",
       "      <td>0</td>\n",
       "      <td>0</td>\n",
       "      <td>0</td>\n",
       "    </tr>\n",
       "    <tr>\n",
       "      <th>2</th>\n",
       "      <td>0</td>\n",
       "      <td>1</td>\n",
       "      <td>0</td>\n",
       "      <td>0</td>\n",
       "      <td>0</td>\n",
       "      <td>0</td>\n",
       "      <td>0</td>\n",
       "      <td>0</td>\n",
       "      <td>0</td>\n",
       "      <td>0</td>\n",
       "      <td>0</td>\n",
       "    </tr>\n",
       "    <tr>\n",
       "      <th>3</th>\n",
       "      <td>0</td>\n",
       "      <td>1</td>\n",
       "      <td>1</td>\n",
       "      <td>0</td>\n",
       "      <td>2</td>\n",
       "      <td>2</td>\n",
       "      <td>0</td>\n",
       "      <td>1</td>\n",
       "      <td>1</td>\n",
       "      <td>2</td>\n",
       "      <td>0</td>\n",
       "    </tr>\n",
       "    <tr>\n",
       "      <th>4</th>\n",
       "      <td>2</td>\n",
       "      <td>4</td>\n",
       "      <td>0</td>\n",
       "      <td>0</td>\n",
       "      <td>2</td>\n",
       "      <td>1</td>\n",
       "      <td>1</td>\n",
       "      <td>2</td>\n",
       "      <td>2</td>\n",
       "      <td>0</td>\n",
       "      <td>1</td>\n",
       "    </tr>\n",
       "    <tr>\n",
       "      <th>5</th>\n",
       "      <td>3</td>\n",
       "      <td>1</td>\n",
       "      <td>4</td>\n",
       "      <td>1</td>\n",
       "      <td>1</td>\n",
       "      <td>1</td>\n",
       "      <td>0</td>\n",
       "      <td>0</td>\n",
       "      <td>4</td>\n",
       "      <td>1</td>\n",
       "      <td>0</td>\n",
       "    </tr>\n",
       "  </tbody>\n",
       "</table>\n",
       "</div>"
      ],
      "text/plain": [
       "Departement_JTI          FINANCE  G&A  HR  M&S  Marketing  RRP  \\\n",
       "evaluation_enthousiasme                                          \n",
       "1                              1    0   0    0          0    0   \n",
       "2                              0    1   0    0          0    0   \n",
       "3                              0    1   1    0          2    2   \n",
       "4                              2    4   0    0          2    1   \n",
       "5                              3    1   4    1          1    1   \n",
       "\n",
       "Departement_JTI          Trade marketing  accounting  production  sales  \\\n",
       "evaluation_enthousiasme                                                   \n",
       "1                                      0           0           0      0   \n",
       "2                                      0           0           0      0   \n",
       "3                                      0           1           1      2   \n",
       "4                                      1           2           2      0   \n",
       "5                                      0           0           4      1   \n",
       "\n",
       "Departement_JTI          supply & chain  \n",
       "evaluation_enthousiasme                  \n",
       "1                                     0  \n",
       "2                                     0  \n",
       "3                                     0  \n",
       "4                                     1  \n",
       "5                                     0  "
      ]
     },
     "execution_count": 31,
     "metadata": {},
     "output_type": "execute_result"
    }
   ],
   "source": [
    "pd.crosstab(df['evaluation_enthousiasme'],df['Departement_JTI'])"
   ]
  },
  {
   "cell_type": "code",
   "execution_count": 32,
   "metadata": {},
   "outputs": [
    {
     "data": {
      "image/png": "[encoded data removed]",
      "text/plain": [
       "<Figure size 360x360 with 1 Axes>"
      ]
     },
     "metadata": {
      "needs_background": "light"
     },
     "output_type": "display_data"
    }
   ],
   "source": [
    "sns.catplot(y=\"Departement_JTI\", x = 'evaluation_enthousiasme',data=df, palette = 'magma')\n",
    "plt.title(\"Evaluation d'enthousiasme par departement et temps a consacrer\");"
   ]
  },
  {
   "cell_type": "markdown",
   "metadata": {},
   "source": [
    "- les répondants les moins enthousiastes travaillent dans les départements G&A et Finance."
   ]
  },
  {
   "cell_type": "code",
   "execution_count": 33,
   "metadata": {},
   "outputs": [
    {
     "data": {
      "text/html": [
       "<div>\n",
       "<style scoped>\n",
       "    .dataframe tbody tr th:only-of-type {\n",
       "        vertical-align: middle;\n",
       "    }\n",
       "\n",
       "    .dataframe tbody tr th {\n",
       "        vertical-align: top;\n",
       "    }\n",
       "\n",
       "    .dataframe thead th {\n",
       "        text-align: right;\n",
       "    }\n",
       "</style>\n",
       "<table border=\"1\" class=\"dataframe\">\n",
       "  <thead>\n",
       "    <tr style=\"text-align: right;\">\n",
       "      <th>Office</th>\n",
       "      <th>Algeria</th>\n",
       "      <th>Morocco</th>\n",
       "      <th>Tunisia</th>\n",
       "    </tr>\n",
       "    <tr>\n",
       "      <th>evaluation_enthousiasme</th>\n",
       "      <th></th>\n",
       "      <th></th>\n",
       "      <th></th>\n",
       "    </tr>\n",
       "  </thead>\n",
       "  <tbody>\n",
       "    <tr>\n",
       "      <th>1</th>\n",
       "      <td>1</td>\n",
       "      <td>0</td>\n",
       "      <td>0</td>\n",
       "    </tr>\n",
       "    <tr>\n",
       "      <th>2</th>\n",
       "      <td>0</td>\n",
       "      <td>0</td>\n",
       "      <td>1</td>\n",
       "    </tr>\n",
       "    <tr>\n",
       "      <th>3</th>\n",
       "      <td>5</td>\n",
       "      <td>3</td>\n",
       "      <td>2</td>\n",
       "    </tr>\n",
       "    <tr>\n",
       "      <th>4</th>\n",
       "      <td>5</td>\n",
       "      <td>3</td>\n",
       "      <td>7</td>\n",
       "    </tr>\n",
       "    <tr>\n",
       "      <th>5</th>\n",
       "      <td>10</td>\n",
       "      <td>5</td>\n",
       "      <td>1</td>\n",
       "    </tr>\n",
       "  </tbody>\n",
       "</table>\n",
       "</div>"
      ],
      "text/plain": [
       "Office                   Algeria  Morocco  Tunisia\n",
       "evaluation_enthousiasme                           \n",
       "1                              1        0        0\n",
       "2                              0        0        1\n",
       "3                              5        3        2\n",
       "4                              5        3        7\n",
       "5                             10        5        1"
      ]
     },
     "execution_count": 33,
     "metadata": {},
     "output_type": "execute_result"
    }
   ],
   "source": [
    "pd.crosstab(df['evaluation_enthousiasme'],df['Office'])"
   ]
  },
  {
   "cell_type": "code",
   "execution_count": 34,
   "metadata": {},
   "outputs": [
    {
     "data": {
      "image/png": "[encoded data removed]",
      "text/plain": [
       "<Figure size 496x360 with 1 Axes>"
      ]
     },
     "metadata": {
      "needs_background": "light"
     },
     "output_type": "display_data"
    }
   ],
   "source": [
    "sns.catplot(x=\"Office\", y = 'Heure',hue='evaluation_enthousiasme',kind=\"bar\" ,data=df, palette = 'magma')\n",
    "plt.title(\"Evaluation d'enthousiasme par office et temps a consacrer\");"
   ]
  },
  {
   "cell_type": "markdown",
   "metadata": {},
   "source": [
    "- En moyenne, les employes pres a consacrer plus de temps sont les employes de la Tunisie. Ils sont aussi les plus enthousiastes.\n",
    "- En Algerie, il y a des employes tres peut enthousiastes et pres a consacrer qu'une heure par semaine a la participation."
   ]
  },
  {
   "cell_type": "code",
   "execution_count": 35,
   "metadata": {},
   "outputs": [
    {
     "data": {
      "text/html": [
       "<div>\n",
       "<style scoped>\n",
       "    .dataframe tbody tr th:only-of-type {\n",
       "        vertical-align: middle;\n",
       "    }\n",
       "\n",
       "    .dataframe tbody tr th {\n",
       "        vertical-align: top;\n",
       "    }\n",
       "\n",
       "    .dataframe thead th {\n",
       "        text-align: right;\n",
       "    }\n",
       "</style>\n",
       "<table border=\"1\" class=\"dataframe\">\n",
       "  <thead>\n",
       "    <tr style=\"text-align: right;\">\n",
       "      <th>recompanse</th>\n",
       "      <th>Cash</th>\n",
       "      <th>Experiences</th>\n",
       "      <th>Gifts</th>\n",
       "      <th>Thank you card</th>\n",
       "    </tr>\n",
       "    <tr>\n",
       "      <th>evaluation_enthousiasme</th>\n",
       "      <th></th>\n",
       "      <th></th>\n",
       "      <th></th>\n",
       "      <th></th>\n",
       "    </tr>\n",
       "  </thead>\n",
       "  <tbody>\n",
       "    <tr>\n",
       "      <th>1</th>\n",
       "      <td>0</td>\n",
       "      <td>0</td>\n",
       "      <td>0</td>\n",
       "      <td>1</td>\n",
       "    </tr>\n",
       "    <tr>\n",
       "      <th>2</th>\n",
       "      <td>0</td>\n",
       "      <td>0</td>\n",
       "      <td>1</td>\n",
       "      <td>0</td>\n",
       "    </tr>\n",
       "    <tr>\n",
       "      <th>3</th>\n",
       "      <td>5</td>\n",
       "      <td>2</td>\n",
       "      <td>0</td>\n",
       "      <td>3</td>\n",
       "    </tr>\n",
       "    <tr>\n",
       "      <th>4</th>\n",
       "      <td>4</td>\n",
       "      <td>4</td>\n",
       "      <td>0</td>\n",
       "      <td>7</td>\n",
       "    </tr>\n",
       "    <tr>\n",
       "      <th>5</th>\n",
       "      <td>1</td>\n",
       "      <td>4</td>\n",
       "      <td>1</td>\n",
       "      <td>10</td>\n",
       "    </tr>\n",
       "  </tbody>\n",
       "</table>\n",
       "</div>"
      ],
      "text/plain": [
       "recompanse               Cash  Experiences  Gifts  Thank you card\n",
       "evaluation_enthousiasme                                          \n",
       "1                           0            0      0               1\n",
       "2                           0            0      1               0\n",
       "3                           5            2      0               3\n",
       "4                           4            4      0               7\n",
       "5                           1            4      1              10"
      ]
     },
     "execution_count": 35,
     "metadata": {},
     "output_type": "execute_result"
    }
   ],
   "source": [
    "pd.crosstab(df['evaluation_enthousiasme'],df['recompanse'])"
   ]
  },
  {
   "cell_type": "code",
   "execution_count": 36,
   "metadata": {},
   "outputs": [
    {
     "data": {
      "image/png": "[encoded data removed]",
      "text/plain": [
       "<Figure size 360x360 with 1 Axes>"
      ]
     },
     "metadata": {
      "needs_background": "light"
     },
     "output_type": "display_data"
    }
   ],
   "source": [
    "sns.catplot(x=\"recompanse\", y = 'evaluation_enthousiasme' ,data=df, palette = 'magma')\n",
    "plt.title(\"Evaluation d'enthousiasme par recompanse\");"
   ]
  },
  {
   "cell_type": "markdown",
   "metadata": {},
   "source": [
    "- il n'y a pas une correlation entre la recompanse souhaite et l'enthousiasme a participer."
   ]
  },
  {
   "cell_type": "markdown",
   "metadata": {},
   "source": [
    "## Correlation :"
   ]
  },
  {
   "cell_type": "code",
   "execution_count": 37,
   "metadata": {},
   "outputs": [
    {
     "data": {
      "image/png": "[encoded data removed]",
      "text/plain": [
       "<Figure size 1080x720 with 2 Axes>"
      ]
     },
     "metadata": {
      "needs_background": "light"
     },
     "output_type": "display_data"
    }
   ],
   "source": [
    "# matrice de correlation (Coefficient de corrélation de Pearson)\n",
    "\n",
    "fig, ax = plt.subplots(figsize=[15,10])\n",
    "\n",
    "sns.heatmap( df.corr(), annot = True,fmt = '.3f',cmap = 'vlag_r', center = 0)\n",
    "plt.title('matrice de correlation')\n",
    "plt.show()"
   ]
  },
  {
   "cell_type": "markdown",
   "metadata": {},
   "source": [
    "- je remarque qu'il n'existe pas de forte correlation entre les variables.\n",
    "- la plus grande correlation est entre la variavle experience and experience en poste actuel."
   ]
  },
  {
   "cell_type": "markdown",
   "metadata": {},
   "source": [
    "## Analyse des Composantes Principales - ACP :"
   ]
  },
  {
   "cell_type": "code",
   "execution_count": 38,
   "metadata": {},
   "outputs": [],
   "source": [
    "# je vais encoder les variables catégorielles avec la fonction \"get_dummies\"\n",
    "df = pd.get_dummies(df , drop_first = True)\n",
    "\n",
    "# les variables independantes :\n",
    "var_exogènes = df.drop(['evaluation_enthousiasme'] , axis = 1)"
   ]
  },
  {
   "cell_type": "code",
   "execution_count": 39,
   "metadata": {},
   "outputs": [],
   "source": [
    "from sklearn.decomposition import PCA\n",
    "pca = PCA(n_components=6, copy=False)\n",
    "pca.fit_transform(var_exogènes);"
   ]
  },
  {
   "cell_type": "code",
   "execution_count": 40,
   "metadata": {},
   "outputs": [
    {
     "name": "stdout",
     "output_type": "stream",
     "text": [
      "[0.49509756 0.173179   0.09154114 0.07372584 0.05890704 0.01449874]\n",
      "Variance Expliquee : 88%\n"
     ]
    }
   ],
   "source": [
    "print(pca.explained_variance_ratio_)\n",
    "print('Variance Expliquee : 88%')"
   ]
  },
  {
   "cell_type": "markdown",
   "metadata": {},
   "source": [
    "Au debut, j'ai decide de diminuer la dimention de ma base de donne de 30 a 6 variable exogene. Apres avoir appliquer l'ACP, j'ai trouver que mes quatre nouvelles variable explique 88% de la variance. \n",
    "\n",
    "49% + 17% + 9% + 7% + 5% + 1% = 88%"
   ]
  },
  {
   "cell_type": "markdown",
   "metadata": {},
   "source": [
    "Je trouve que cette diminuation de dimention et tres pratique. Mais, comme la variance expliquee a augmente que de 1% par la 6eme variable, j'ai decide de diminuer la dimention encore une fois a 5 variable exogene."
   ]
  },
  {
   "cell_type": "code",
   "execution_count": 41,
   "metadata": {},
   "outputs": [
    {
     "name": "stdout",
     "output_type": "stream",
     "text": [
      "[0.49509756 0.173179   0.09154114 0.07372584 0.05890704]\n",
      "Variance Expliquee : 87%\n"
     ]
    }
   ],
   "source": [
    "pca = PCA(n_components=5, copy=False)\n",
    "pca.fit_transform(var_exogènes)\n",
    "print(pca.explained_variance_ratio_)\n",
    "print('Variance Expliquee : 87%')"
   ]
  },
  {
   "cell_type": "markdown",
   "metadata": {},
   "source": [
    "## Regression Lineaire:"
   ]
  },
  {
   "cell_type": "markdown",
   "metadata": {},
   "source": [
    "J'essaierai maintenant de prédire l'enthousiasme des employés en utilisant le reste des variables comme variables indépendantes en utilisant les méthodes de régression."
   ]
  },
  {
   "cell_type": "code",
   "execution_count": 59,
   "metadata": {},
   "outputs": [
    {
     "name": "stdout",
     "output_type": "stream",
     "text": [
      "                               OLS Regression Results                              \n",
      "===================================================================================\n",
      "Dep. Variable:     evaluation_enthousiasme   R-squared:                       0.674\n",
      "Model:                                 OLS   Adj. R-squared:                 -0.054\n",
      "Method:                      Least Squares   F-statistic:                    0.9261\n",
      "Date:                     Sat, 24 Oct 2020   Prob (F-statistic):              0.588\n",
      "Time:                             03:20:25   Log-Likelihood:                -34.815\n",
      "No. Observations:                       43   AIC:                             129.6\n",
      "Df Residuals:                           13   BIC:                             182.5\n",
      "Df Model:                               29                                         \n",
      "Covariance Type:                 nonrobust                                         \n",
      "===================================================================================================\n",
      "                                      coef    std err          t      P>|t|      [0.025      0.975]\n",
      "---------------------------------------------------------------------------------------------------\n",
      "const                               3.0637      1.466      2.089      0.057      -0.104       6.232\n",
      "Experience_ans                      0.0970      0.122      0.796      0.440      -0.166       0.360\n",
      "Experience_poste_ans                0.0150      0.128      0.118      0.908      -0.261       0.291\n",
      "evaluation_benifice                -0.4020      0.177     -2.266      0.041      -0.785      -0.019\n",
      "evaluation_idee                     0.0040      0.207      0.020      0.985      -0.442       0.450\n",
      "creation_contenu                    0.4634      0.638      0.726      0.481      -0.915       1.842\n",
      "creation_video                     -0.3889      0.521     -0.746      0.469      -1.515       0.737\n",
      "encadrement                         0.2870      0.653      0.440      0.667      -1.123       1.697\n",
      "consultation                        0.1619      0.523      0.310      0.762      -0.967       1.291\n",
      "creation_corrige_type               0.0782      0.606      0.129      0.899      -1.230       1.386\n",
      "exp_en_design                      -0.0544      0.502     -0.108      0.916      -1.140       1.031\n",
      "exp_en_encadrement                  0.5266      0.460      1.144      0.273      -0.468       1.521\n",
      "besoin_de_formation                -0.2580      0.572     -0.451      0.659      -1.494       0.978\n",
      "Heure                               0.0724      0.139      0.519      0.612      -0.229       0.374\n",
      "SEXE_M                              0.3205      0.488      0.657      0.523      -0.734       1.375\n",
      "Departement_JTI_G&A                -0.3442      0.798     -0.431      0.673      -2.068       1.379\n",
      "Departement_JTI_HR                  0.5824      1.250      0.466      0.649      -2.118       3.283\n",
      "Departement_JTI_M&S                 2.8329      1.941      1.459      0.168      -1.361       7.027\n",
      "Departement_JTI_Marketing           0.3669      1.044      0.351      0.731      -1.889       2.623\n",
      "Departement_JTI_RRP                -0.9052      1.015     -0.892      0.389      -3.097       1.287\n",
      "Departement_JTI_Trade marketing     1.0526      1.574      0.669      0.515      -2.348       4.453\n",
      "Departement_JTI_accounting          0.0046      1.299      0.004      0.997      -2.802       2.811\n",
      "Departement_JTI_production         -0.1265      0.656     -0.193      0.850      -1.545       1.292\n",
      "Departement_JTI_sales              -0.5983      0.954     -0.627      0.542      -2.660       1.463\n",
      "Departement_JTI_supply & chain      1.8939      1.781      1.063      0.307      -1.954       5.742\n",
      "Office_Morocco                      0.5755      0.722      0.797      0.440      -0.984       2.135\n",
      "Office_Tunisia                     -0.1130      0.587     -0.192      0.850      -1.381       1.155\n",
      "recompanse_Experiences              1.0517      0.713      1.476      0.164      -0.488       2.591\n",
      "recompanse_Gifts                   -0.2275      1.907     -0.119      0.907      -4.348       3.893\n",
      "recompanse_Thank you card           0.7656      0.790      0.969      0.350      -0.942       2.473\n",
      "==============================================================================\n",
      "Omnibus:                        5.475   Durbin-Watson:                   2.262\n",
      "Prob(Omnibus):                  0.065   Jarque-Bera (JB):                4.392\n",
      "Skew:                          -0.555   Prob(JB):                        0.111\n",
      "Kurtosis:                       4.104   Cond. No.                         186.\n",
      "==============================================================================\n",
      "\n",
      "Warnings:\n",
      "[1] Standard Errors assume that the covariance matrix of the errors is correctly specified.\n"
     ]
    }
   ],
   "source": [
    "import statsmodels.api as sm\n",
    "\n",
    "var_exogènes = df.drop(['evaluation_enthousiasme'] , axis = 1)\n",
    "\n",
    "# mes variables independante:\n",
    "X = df.drop(['evaluation_enthousiasme'] , axis = 1)\n",
    "\n",
    "# ajoutant la colonne de valeur: 1, sur tout les lignes\n",
    "X = sm.add_constant(X)\n",
    "\n",
    "# ma variable d'interet\n",
    "y = df.evaluation_enthousiasme\n",
    "\n",
    "# le model : Regression Lineaire\n",
    "model = sm.OLS(y , X).fit()\n",
    "\n",
    "# les Resultats :\n",
    "\n",
    "print(model.summary())"
   ]
  },
  {
   "cell_type": "code",
   "execution_count": 60,
   "metadata": {},
   "outputs": [
    {
     "name": "stdout",
     "output_type": "stream",
     "text": [
      "R2:  0.6738352563981675\n"
     ]
    }
   ],
   "source": [
    "print('R2: ', model.rsquared)"
   ]
  },
  {
   "cell_type": "markdown",
   "metadata": {},
   "source": [
    "- comme le R-carre est egale a 0.674, je peux dire que les variables independantes explique la variation de ma variable d'interet Evaluation_enthousiasme a 67.4%"
   ]
  },
  {
   "cell_type": "markdown",
   "metadata": {},
   "source": [
    "# Conclusion"
   ]
  },
  {
   "cell_type": "markdown",
   "metadata": {},
   "source": [
    "à la fin, voici certaines des idées que j'ai tirées de cette enquête"
   ]
  },
  {
   "cell_type": "markdown",
   "metadata": {},
   "source": [
    "- D'apres cette enquette, j'ai trouver que les employes n'aiment pas vraiment l'idée en général.\n",
    "- Peu d'employés sont prêts à consacrer du temps et des efforts à participer puisqu'il s'agit d'un travail de bénévolat.\n",
    "- Pour ceux qui sont intéressés par l'idée, ils ont tous demandé une carte de remerciement en guise de récompense.\n",
    "- les répondants pensent que l'idée sera plus bénéfique pour JTI que pour les étudiants.\n",
    "- les hommes sont prêts à passer plus de temps à participer à la plateforme que les femmes.\n",
    "- les répondants préfèrent travailler sur le contenu plutôt que d'interagir avec les étudiants en les encadrant et, ..\n",
    "- les employés des departements administratifs sont plus intéressés par l'idée que ceux des departements industriels.\n",
    "- Il y a autant d'employés qualifiés que de non qualifiés. Cependant, la plupart d'entre eux préfèrent suivre un atelier pour pouvoir mieux travailler."
   ]
  },
  {
   "cell_type": "markdown",
   "metadata": {},
   "source": [
    "# Imene KOLLI"
   ]
  }
 ],
 "metadata": {
  "kernelspec": {
   "display_name": "Python 3",
   "language": "python",
   "name": "python3"
  },
  "language_info": {
   "codemirror_mode": {
    "name": "ipython",
    "version": 3
   },
   "file_extension": ".py",
   "mimetype": "text/x-python",
   "name": "python",
   "nbconvert_exporter": "python",
   "pygments_lexer": "ipython3",
   "version": "3.8.5"
  }
 },
 "nbformat": 4,
 "nbformat_minor": 4
}
