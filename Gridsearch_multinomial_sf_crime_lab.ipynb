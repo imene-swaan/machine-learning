{
  "nbformat": 4,
  "nbformat_minor": 0,
  "metadata": {
    "anaconda-cloud": {},
    "kernelspec": {
      "display_name": "Python 3",
      "language": "python",
      "name": "python3"
    },
    "language_info": {
      "codemirror_mode": {
        "name": "ipython",
        "version": 3
      },
      "file_extension": ".py",
      "mimetype": "text/x-python",
      "name": "python",
      "nbconvert_exporter": "python",
      "pygments_lexer": "ipython3",
      "version": "3.7.7"
    },
    "toc": {
      "nav_menu": {},
      "number_sections": false,
      "sideBar": true,
      "skip_h1_title": false,
      "title_cell": "Table of Contents",
      "title_sidebar": "Contents",
      "toc_cell": false,
      "toc_position": {},
      "toc_section_display": "block",
      "toc_window_display": false
    },
    "varInspector": {
      "cols": {
        "lenName": 16,
        "lenType": 16,
        "lenVar": 40
      },
      "kernels_config": {
        "python": {
          "delete_cmd_postfix": "",
          "delete_cmd_prefix": "del ",
          "library": "var_list.py",
          "varRefreshCmd": "print(var_dic_list())"
        },
        "r": {
          "delete_cmd_postfix": ") ",
          "delete_cmd_prefix": "rm(",
          "library": "var_list.r",
          "varRefreshCmd": "cat(var_dic_list()) "
        }
      },
      "types_to_exclude": [
        "module",
        "function",
        "builtin_function_or_method",
        "instance",
        "_Feature"
      ],
      "window_display": false
    },
    "colab": {
      "name": "Copie de gridsearch-multinomial-sf-crime-lab.ipynb",
      "provenance": [],
      "collapsed_sections": [],
      "include_colab_link": true
    }
  },
  "cells": [
    {
      "cell_type": "markdown",
      "metadata": {
        "id": "view-in-github",
        "colab_type": "text"
      },
      "source": [
        "<a href=\"https://colab.research.google.com/github/imene-swaan/machine-learning/blob/master/Gridsearch_multinomial_sf_crime_lab.ipynb\" target=\"_parent\"><img src=\"https://colab.research.google.com/assets/colab-badge.svg\" alt=\"Open In Colab\"/></a>"
      ]
    },
    {
      "cell_type": "markdown",
      "metadata": {
        "id": "YTnqRx48bNbj"
      },
      "source": [
        "<img src=\"http://imgur.com/1ZcRyrc.png\" style=\"float: left; margin: 20px; height: 55px\">\n",
        "\n",
        "# Practice Gridsearch and Multinomial Models with SF Crime Data\n",
        "\n",
        "\n",
        "---\n",
        "\n",
        "### Multinomial logistic regression models\n",
        "\n",
        "So far, we have been using logistic regression for binary problems where there are only two class labels. Logistic regression can be extended to dependent variables with multiple classes.\n",
        "\n",
        "There are two ways sklearn solves multiple-class problems with logistic regression: a multinomial loss or a \"one vs. rest\" (OvR) process where a model is fit for each target class vs. all the other classes. \n",
        "\n",
        "**Multinomial vs. OvR**\n",
        "- (M) 'k-1' models with 1 reference category\n",
        "- (OvR) 'k*(k-1)/2' models\n",
        "\n",
        "You will use the gridsearch in conjunction with multinomial logistic to optimize a model that predicts the category (type) of crime based on various features captured by San Francisco police departments."
      ]
    },
    {
      "cell_type": "markdown",
      "metadata": {
        "id": "GzJXfvgNbNbo"
      },
      "source": [
        "**Necessary lab imports**"
      ]
    },
    {
      "cell_type": "code",
      "metadata": {
        "id": "1pRbI8E0bNbr"
      },
      "source": [
        "import numpy as np\n",
        "import pandas as pd\n",
        "import patsy\n",
        "\n",
        "from sklearn.metrics import classification_report, confusion_matrix, accuracy_score\n",
        "from sklearn.model_selection import train_test_split, GridSearchCV, cross_val_score, cross_val_predict\n",
        "from sklearn.linear_model import LogisticRegression, LogisticRegressionCV\n",
        "\n",
        "\n",
        "import seaborn as sns\n",
        "\n",
        "import matplotlib.pyplot as plt\n",
        "plt.style.use('fivethirtyeight')\n",
        "\n",
        "%matplotlib inline\n",
        "%config InlineBackend.figure_format = 'retina'"
      ],
      "execution_count": null,
      "outputs": []
    },
    {
      "cell_type": "markdown",
      "metadata": {
        "id": "E7Qi7BvBbNcB"
      },
      "source": [
        "### 1. Read in the data"
      ]
    },
    {
      "cell_type": "code",
      "metadata": {
        "id": "Adfv4IQHbNcD"
      },
      "source": [
        "crime_csv = '/content/sf_crime_train.csv'"
      ],
      "execution_count": null,
      "outputs": []
    },
    {
      "cell_type": "code",
      "metadata": {
        "id": "8oxIYtpvbNcL",
        "outputId": "27a335c9-b9bc-471f-9b38-b75d125ac7a7",
        "colab": {
          "base_uri": "https://localhost:8080/",
          "height": 204
        }
      },
      "source": [
        "#read in the data using pandas\n",
        "sf_crime = pd.read_csv(crime_csv)\n",
        "sf_crime.drop('DayOfWeek',axis=1,inplace=True)\n",
        "sf_crime.head()"
      ],
      "execution_count": null,
      "outputs": [
        {
          "output_type": "execute_result",
          "data": {
            "text/html": [
              "<div>\n",
              "<style scoped>\n",
              "    .dataframe tbody tr th:only-of-type {\n",
              "        vertical-align: middle;\n",
              "    }\n",
              "\n",
              "    .dataframe tbody tr th {\n",
              "        vertical-align: top;\n",
              "    }\n",
              "\n",
              "    .dataframe thead th {\n",
              "        text-align: right;\n",
              "    }\n",
              "</style>\n",
              "<table border=\"1\" class=\"dataframe\">\n",
              "  <thead>\n",
              "    <tr style=\"text-align: right;\">\n",
              "      <th></th>\n",
              "      <th>Dates</th>\n",
              "      <th>Category</th>\n",
              "      <th>Descript</th>\n",
              "      <th>PdDistrict</th>\n",
              "      <th>Resolution</th>\n",
              "      <th>Address</th>\n",
              "      <th>X</th>\n",
              "      <th>Y</th>\n",
              "    </tr>\n",
              "  </thead>\n",
              "  <tbody>\n",
              "    <tr>\n",
              "      <th>0</th>\n",
              "      <td>5/13/15 23:53</td>\n",
              "      <td>WARRANTS</td>\n",
              "      <td>WARRANT ARREST</td>\n",
              "      <td>NORTHERN</td>\n",
              "      <td>ARREST, BOOKED</td>\n",
              "      <td>OAK ST / LAGUNA ST</td>\n",
              "      <td>-122.425892</td>\n",
              "      <td>37.774599</td>\n",
              "    </tr>\n",
              "    <tr>\n",
              "      <th>1</th>\n",
              "      <td>5/13/15 23:53</td>\n",
              "      <td>OTHER OFFENSES</td>\n",
              "      <td>TRAFFIC VIOLATION ARREST</td>\n",
              "      <td>NORTHERN</td>\n",
              "      <td>ARREST, BOOKED</td>\n",
              "      <td>OAK ST / LAGUNA ST</td>\n",
              "      <td>-122.425892</td>\n",
              "      <td>37.774599</td>\n",
              "    </tr>\n",
              "    <tr>\n",
              "      <th>2</th>\n",
              "      <td>5/13/15 23:33</td>\n",
              "      <td>OTHER OFFENSES</td>\n",
              "      <td>TRAFFIC VIOLATION ARREST</td>\n",
              "      <td>NORTHERN</td>\n",
              "      <td>ARREST, BOOKED</td>\n",
              "      <td>VANNESS AV / GREENWICH ST</td>\n",
              "      <td>-122.424363</td>\n",
              "      <td>37.800414</td>\n",
              "    </tr>\n",
              "    <tr>\n",
              "      <th>3</th>\n",
              "      <td>5/13/15 23:30</td>\n",
              "      <td>LARCENY/THEFT</td>\n",
              "      <td>GRAND THEFT FROM LOCKED AUTO</td>\n",
              "      <td>NORTHERN</td>\n",
              "      <td>NONE</td>\n",
              "      <td>1500 Block of LOMBARD ST</td>\n",
              "      <td>-122.426995</td>\n",
              "      <td>37.800873</td>\n",
              "    </tr>\n",
              "    <tr>\n",
              "      <th>4</th>\n",
              "      <td>5/13/15 23:30</td>\n",
              "      <td>LARCENY/THEFT</td>\n",
              "      <td>GRAND THEFT FROM LOCKED AUTO</td>\n",
              "      <td>PARK</td>\n",
              "      <td>NONE</td>\n",
              "      <td>100 Block of BRODERICK ST</td>\n",
              "      <td>-122.438738</td>\n",
              "      <td>37.771541</td>\n",
              "    </tr>\n",
              "  </tbody>\n",
              "</table>\n",
              "</div>"
            ],
            "text/plain": [
              "           Dates        Category  ...           X          Y\n",
              "0  5/13/15 23:53        WARRANTS  ... -122.425892  37.774599\n",
              "1  5/13/15 23:53  OTHER OFFENSES  ... -122.425892  37.774599\n",
              "2  5/13/15 23:33  OTHER OFFENSES  ... -122.424363  37.800414\n",
              "3  5/13/15 23:30   LARCENY/THEFT  ... -122.426995  37.800873\n",
              "4  5/13/15 23:30   LARCENY/THEFT  ... -122.438738  37.771541\n",
              "\n",
              "[5 rows x 8 columns]"
            ]
          },
          "metadata": {
            "tags": []
          },
          "execution_count": 9
        }
      ]
    },
    {
      "cell_type": "code",
      "metadata": {
        "id": "DqwFRp8tbNcW",
        "outputId": "08ac88b7-8d0b-4f51-bf8b-51438dfde6ca",
        "colab": {
          "base_uri": "https://localhost:8080/",
          "height": 34
        }
      },
      "source": [
        "# check the shape of your dataframe\n",
        "print(f'the shape of the dataset is given by {sf_crime.shape[0]} rows and {sf_crime.shape[1]} columns')"
      ],
      "execution_count": null,
      "outputs": [
        {
          "output_type": "stream",
          "text": [
            "the shape of the dataset is given by 18000 rows and 8 columns\n"
          ],
          "name": "stdout"
        }
      ]
    },
    {
      "cell_type": "code",
      "metadata": {
        "id": "RQS44aGrbNcf",
        "outputId": "76607520-4a8e-45ee-9bef-556c951dcd84",
        "colab": {
          "base_uri": "https://localhost:8080/",
          "height": 34
        }
      },
      "source": [
        "#check whether there are any missing values\n",
        "missing = sf_crime['Resolution'].value_counts()[0]\n",
        "print(f'the {sf_crime.columns[4]} column has {missing} missing values denoted as NONE')\n",
        "#do we need to fix anything here?\n"
      ],
      "execution_count": null,
      "outputs": [
        {
          "output_type": "stream",
          "text": [
            "the Resolution column has 12862 missing values denoted as NONE\n"
          ],
          "name": "stdout"
        }
      ]
    },
    {
      "cell_type": "code",
      "metadata": {
        "id": "MkK5Kf-abNco",
        "outputId": "5859df53-afe9-4726-a160-6a4463aa8029",
        "colab": {
          "base_uri": "https://localhost:8080/",
          "height": 272
        }
      },
      "source": [
        "#check what your datatypes are\n",
        "sf_crime.info()\n",
        "#do we need to fix anything here?\n"
      ],
      "execution_count": null,
      "outputs": [
        {
          "output_type": "stream",
          "text": [
            "<class 'pandas.core.frame.DataFrame'>\n",
            "RangeIndex: 18000 entries, 0 to 17999\n",
            "Data columns (total 8 columns):\n",
            " #   Column      Non-Null Count  Dtype  \n",
            "---  ------      --------------  -----  \n",
            " 0   Dates       18000 non-null  object \n",
            " 1   Category    18000 non-null  object \n",
            " 2   Descript    18000 non-null  object \n",
            " 3   PdDistrict  18000 non-null  object \n",
            " 4   Resolution  18000 non-null  object \n",
            " 5   Address     18000 non-null  object \n",
            " 6   X           18000 non-null  float64\n",
            " 7   Y           18000 non-null  float64\n",
            "dtypes: float64(2), object(6)\n",
            "memory usage: 1.1+ MB\n"
          ],
          "name": "stdout"
        }
      ]
    },
    {
      "cell_type": "markdown",
      "metadata": {
        "id": "42Pn0VB0bNcv"
      },
      "source": [
        "### 2. Create column for year, month, day, hour, time, and date from 'Dates' column.\n",
        "\n",
        "> *`pd.to_datetime` and `Series.dt` may be helpful here!*\n"
      ]
    },
    {
      "cell_type": "code",
      "metadata": {
        "id": "vS2bMsAVbNcx"
      },
      "source": [
        "# convert the 'Dates' column to a datetime object\n",
        "sf_crime['Dates'] = pd.to_datetime(sf_crime['Dates'])"
      ],
      "execution_count": null,
      "outputs": []
    },
    {
      "cell_type": "code",
      "metadata": {
        "id": "wTuW-BqAbNc7",
        "outputId": "16209b3d-d038-4eef-ba8f-6ebf62fbeb44",
        "colab": {
          "base_uri": "https://localhost:8080/",
          "height": 145
        }
      },
      "source": [
        "# create a new column for 'Year','Month',and 'Day_of_Week'\n",
        "sf_crime['Year'] = sf_crime['Dates'].dt.year\n",
        "sf_crime['Month'] = sf_crime['Dates'].dt.month\n",
        "sf_crime['Day_of_Week'] = sf_crime['Dates'].dt.dayofweek\n",
        "map_days= {0:'Monday',\n",
        "          1:'Tuesday',\n",
        "          2:'Wednesday',\n",
        "          3:'Thursday',\n",
        "          4:'Friday',\n",
        "          5:'Saturday',\n",
        "          6:'Sunday'}\n",
        "sf_crime['Day_of_Week'] = sf_crime['Day_of_Week'].map(map_days)\n",
        "#check the first couple rows to make sure it's what you want\n",
        "sf_crime.head(2)"
      ],
      "execution_count": null,
      "outputs": [
        {
          "output_type": "execute_result",
          "data": {
            "text/html": [
              "<div>\n",
              "<style scoped>\n",
              "    .dataframe tbody tr th:only-of-type {\n",
              "        vertical-align: middle;\n",
              "    }\n",
              "\n",
              "    .dataframe tbody tr th {\n",
              "        vertical-align: top;\n",
              "    }\n",
              "\n",
              "    .dataframe thead th {\n",
              "        text-align: right;\n",
              "    }\n",
              "</style>\n",
              "<table border=\"1\" class=\"dataframe\">\n",
              "  <thead>\n",
              "    <tr style=\"text-align: right;\">\n",
              "      <th></th>\n",
              "      <th>Dates</th>\n",
              "      <th>Category</th>\n",
              "      <th>Descript</th>\n",
              "      <th>PdDistrict</th>\n",
              "      <th>Resolution</th>\n",
              "      <th>Address</th>\n",
              "      <th>X</th>\n",
              "      <th>Y</th>\n",
              "      <th>Year</th>\n",
              "      <th>Month</th>\n",
              "      <th>Day_of_Week</th>\n",
              "    </tr>\n",
              "  </thead>\n",
              "  <tbody>\n",
              "    <tr>\n",
              "      <th>0</th>\n",
              "      <td>2015-05-13 23:53:00</td>\n",
              "      <td>WARRANTS</td>\n",
              "      <td>WARRANT ARREST</td>\n",
              "      <td>NORTHERN</td>\n",
              "      <td>ARREST, BOOKED</td>\n",
              "      <td>OAK ST / LAGUNA ST</td>\n",
              "      <td>-122.425892</td>\n",
              "      <td>37.774599</td>\n",
              "      <td>2015</td>\n",
              "      <td>5</td>\n",
              "      <td>Wednesday</td>\n",
              "    </tr>\n",
              "    <tr>\n",
              "      <th>1</th>\n",
              "      <td>2015-05-13 23:53:00</td>\n",
              "      <td>OTHER OFFENSES</td>\n",
              "      <td>TRAFFIC VIOLATION ARREST</td>\n",
              "      <td>NORTHERN</td>\n",
              "      <td>ARREST, BOOKED</td>\n",
              "      <td>OAK ST / LAGUNA ST</td>\n",
              "      <td>-122.425892</td>\n",
              "      <td>37.774599</td>\n",
              "      <td>2015</td>\n",
              "      <td>5</td>\n",
              "      <td>Wednesday</td>\n",
              "    </tr>\n",
              "  </tbody>\n",
              "</table>\n",
              "</div>"
            ],
            "text/plain": [
              "                Dates        Category  ... Month Day_of_Week\n",
              "0 2015-05-13 23:53:00        WARRANTS  ...     5   Wednesday\n",
              "1 2015-05-13 23:53:00  OTHER OFFENSES  ...     5   Wednesday\n",
              "\n",
              "[2 rows x 11 columns]"
            ]
          },
          "metadata": {
            "tags": []
          },
          "execution_count": 14
        }
      ]
    },
    {
      "cell_type": "code",
      "metadata": {
        "id": "ln0SV2BFbNdC"
      },
      "source": [
        "# create a column for the 'Hour','Time', and 'Date'\n",
        "sf_crime['Hour'] = sf_crime['Dates'].dt.hour\n",
        "sf_crime['Time'] = sf_crime['Dates'].dt.time\n",
        "sf_crime['Date'] = sf_crime['Dates'].dt.date"
      ],
      "execution_count": null,
      "outputs": []
    },
    {
      "cell_type": "code",
      "metadata": {
        "id": "LNCAANRGbNdK"
      },
      "source": [
        "# Drop the 'Dates' column\n",
        "sf_crime.drop(['Dates'], axis = 1, inplace = True)"
      ],
      "execution_count": null,
      "outputs": []
    },
    {
      "cell_type": "markdown",
      "metadata": {
        "id": "vBVMFm_-bNdT"
      },
      "source": [
        "### 3. Validate and clean the data."
      ]
    },
    {
      "cell_type": "code",
      "metadata": {
        "id": "2978GXqabNdV",
        "outputId": "5558d1d9-d87b-4965-d8d1-9e2e4f69133b",
        "colab": {
          "base_uri": "https://localhost:8080/",
          "height": 680
        }
      },
      "source": [
        "# check the 'Category' value counts to see what sort of categories there are\n",
        "# and to see if anything might require cleaning (particularly the ones with fewer values)\n",
        "sf_crime['Category'].value_counts()"
      ],
      "execution_count": null,
      "outputs": [
        {
          "output_type": "execute_result",
          "data": {
            "text/plain": [
              "LARCENY/THEFT                  4885\n",
              "OTHER OFFENSES                 2291\n",
              "NON-CRIMINAL                   2255\n",
              "ASSAULT                        1536\n",
              "VEHICLE THEFT                   967\n",
              "VANDALISM                       877\n",
              "BURGLARY                        732\n",
              "WARRANTS                        728\n",
              "SUSPICIOUS OCC                  592\n",
              "MISSING PERSON                  535\n",
              "DRUG/NARCOTIC                   496\n",
              "ROBBERY                         465\n",
              "FRAUD                           363\n",
              "SECONDARY CODES                 261\n",
              "WEAPON LAWS                     212\n",
              "TRESPASS                        130\n",
              "STOLEN PROPERTY                 111\n",
              "SEX OFFENSES FORCIBLE           103\n",
              "FORGERY/COUNTERFEITING           85\n",
              "DRUNKENNESS                      74\n",
              "KIDNAPPING                       50\n",
              "PROSTITUTION                     44\n",
              "DRIVING UNDER THE INFLUENCE      42\n",
              "DISORDERLY CONDUCT               37\n",
              "ARSON                            35\n",
              "LIQUOR LAWS                      25\n",
              "RUNAWAY                          16\n",
              "BRIBERY                          11\n",
              "EMBEZZLEMENT                     11\n",
              "FAMILY OFFENSES                   5\n",
              "SUICIDE                           5\n",
              "GAMBLING                          4\n",
              "EXTORTION                         4\n",
              "SEX OFFENSES NON FORCIBLE         4\n",
              "LOITERING                         4\n",
              "BAD CHECKS                        2\n",
              "ASSUALT                           2\n",
              "TRESPASSING                       1\n",
              "Name: Category, dtype: int64"
            ]
          },
          "metadata": {
            "tags": []
          },
          "execution_count": 17
        }
      ]
    },
    {
      "cell_type": "code",
      "metadata": {
        "id": "U2y6CnD1bNdc"
      },
      "source": [
        "# What's going on with 'TRESPASS' and 'TRESPASSING'?\n",
        "# What's going on with 'ASSAULT' and 'ASSUALT'?\n",
        "# fix these with .loc\n",
        "rep = {'ASSUALT': 'ASSAULT',\n",
        "      'TRESPASSING': 'TRESPASS'}\n",
        "sf_crime['Category'].replace(rep, inplace = True)"
      ],
      "execution_count": null,
      "outputs": []
    },
    {
      "cell_type": "code",
      "metadata": {
        "id": "OyuVrTCFbNdi",
        "outputId": "64bd4ae9-aaac-4a7a-bae8-4a91da60f6aa",
        "colab": {
          "base_uri": "https://localhost:8080/",
          "height": 153
        }
      },
      "source": [
        "# have a look to see whether you have all the days of the week in your data\n",
        "sf_crime['Day_of_Week'].value_counts()"
      ],
      "execution_count": null,
      "outputs": [
        {
          "output_type": "execute_result",
          "data": {
            "text/plain": [
              "Wednesday    2930\n",
              "Friday       2733\n",
              "Saturday     2556\n",
              "Thursday     2479\n",
              "Sunday       2456\n",
              "Monday       2447\n",
              "Tuesday      2399\n",
              "Name: Day_of_Week, dtype: int64"
            ]
          },
          "metadata": {
            "tags": []
          },
          "execution_count": 19
        }
      ]
    },
    {
      "cell_type": "code",
      "metadata": {
        "id": "xrswvXTwbNdo",
        "outputId": "18adf4f0-581b-47b6-e687-9e57f1d4b930",
        "colab": {
          "base_uri": "https://localhost:8080/",
          "height": 595
        }
      },
      "source": [
        "# have a look at the value counts for 'Descript', 'PdDistrict', and 'Resolution' to make sure it all checks out\n",
        "print(sf_crime['Descript'].value_counts())\n",
        "print(sf_crime['PdDistrict'].value_counts())\n",
        "print(sf_crime['Resolution'].value_counts())"
      ],
      "execution_count": null,
      "outputs": [
        {
          "output_type": "stream",
          "text": [
            "GRAND THEFT FROM LOCKED AUTO                        2127\n",
            "STOLEN AUTOMOBILE                                    625\n",
            "AIDED CASE, MENTAL DISTURBED                         591\n",
            "DRIVERS LICENSE, SUSPENDED OR REVOKED                589\n",
            "BATTERY                                              520\n",
            "                                                    ... \n",
            "MINOR PURCHASING OR RECEIVING TOBACCO PRODUCT          1\n",
            "FIREARM, POSSESSION OF WHILE WEARING MASK              1\n",
            "ELECTRICAL  OR GAS LINES, INTERFERING WITH             1\n",
            "PHONE CALLS, OBSCENE                                   1\n",
            "ROBBERY, VEHICLE FOR HIRE, ATT., W/ OTHER WEAPON       1\n",
            "Name: Descript, Length: 510, dtype: int64\n",
            "SOUTHERN      3287\n",
            "NORTHERN      2250\n",
            "CENTRAL       2206\n",
            "MISSION       2118\n",
            "BAYVIEW       1678\n",
            "INGLESIDE     1628\n",
            "TARAVAL       1426\n",
            "TENDERLOIN    1327\n",
            "RICHMOND      1101\n",
            "PARK           979\n",
            "Name: PdDistrict, dtype: int64\n",
            "NONE                                      12862\n",
            "ARREST, BOOKED                             4455\n",
            "UNFOUNDED                                   367\n",
            "ARREST, CITED                               100\n",
            "JUVENILE BOOKED                              94\n",
            "EXCEPTIONAL CLEARANCE                        58\n",
            "PSYCHOPATHIC CASE                            28\n",
            "LOCATED                                      25\n",
            "CLEARED-CONTACT JUVENILE FOR MORE INFO       10\n",
            "NOT PROSECUTED                                1\n",
            "Name: Resolution, dtype: int64\n"
          ],
          "name": "stdout"
        }
      ]
    },
    {
      "cell_type": "code",
      "metadata": {
        "id": "QAmneNFRbNdu",
        "outputId": "22baae3a-aa91-4df7-836e-55ba48e95c66",
        "colab": {
          "base_uri": "https://localhost:8080/",
          "height": 297
        }
      },
      "source": [
        "# use .describe() to see whether the location coordinates seem appropriate\n",
        "sf_crime[['X', 'Y']].describe()"
      ],
      "execution_count": null,
      "outputs": [
        {
          "output_type": "execute_result",
          "data": {
            "text/html": [
              "<div>\n",
              "<style scoped>\n",
              "    .dataframe tbody tr th:only-of-type {\n",
              "        vertical-align: middle;\n",
              "    }\n",
              "\n",
              "    .dataframe tbody tr th {\n",
              "        vertical-align: top;\n",
              "    }\n",
              "\n",
              "    .dataframe thead th {\n",
              "        text-align: right;\n",
              "    }\n",
              "</style>\n",
              "<table border=\"1\" class=\"dataframe\">\n",
              "  <thead>\n",
              "    <tr style=\"text-align: right;\">\n",
              "      <th></th>\n",
              "      <th>X</th>\n",
              "      <th>Y</th>\n",
              "    </tr>\n",
              "  </thead>\n",
              "  <tbody>\n",
              "    <tr>\n",
              "      <th>count</th>\n",
              "      <td>18000.000000</td>\n",
              "      <td>18000.000000</td>\n",
              "    </tr>\n",
              "    <tr>\n",
              "      <th>mean</th>\n",
              "      <td>-122.423639</td>\n",
              "      <td>37.768466</td>\n",
              "    </tr>\n",
              "    <tr>\n",
              "      <th>std</th>\n",
              "      <td>0.026532</td>\n",
              "      <td>0.024391</td>\n",
              "    </tr>\n",
              "    <tr>\n",
              "      <th>min</th>\n",
              "      <td>-122.513642</td>\n",
              "      <td>37.708154</td>\n",
              "    </tr>\n",
              "    <tr>\n",
              "      <th>25%</th>\n",
              "      <td>-122.434199</td>\n",
              "      <td>37.753838</td>\n",
              "    </tr>\n",
              "    <tr>\n",
              "      <th>50%</th>\n",
              "      <td>-122.416949</td>\n",
              "      <td>37.775608</td>\n",
              "    </tr>\n",
              "    <tr>\n",
              "      <th>75%</th>\n",
              "      <td>-122.406539</td>\n",
              "      <td>37.785390</td>\n",
              "    </tr>\n",
              "    <tr>\n",
              "      <th>max</th>\n",
              "      <td>-122.365565</td>\n",
              "      <td>37.819923</td>\n",
              "    </tr>\n",
              "  </tbody>\n",
              "</table>\n",
              "</div>"
            ],
            "text/plain": [
              "                  X             Y\n",
              "count  18000.000000  18000.000000\n",
              "mean    -122.423639     37.768466\n",
              "std        0.026532      0.024391\n",
              "min     -122.513642     37.708154\n",
              "25%     -122.434199     37.753838\n",
              "50%     -122.416949     37.775608\n",
              "75%     -122.406539     37.785390\n",
              "max     -122.365565     37.819923"
            ]
          },
          "metadata": {
            "tags": []
          },
          "execution_count": 21
        }
      ]
    },
    {
      "cell_type": "markdown",
      "metadata": {
        "collapsed": true,
        "id": "_px4vqi0bNd0"
      },
      "source": [
        "### 4. Set up a target and predictor matrix for predicting violent crime vs. non-violent crime vs. non-crimes.\n",
        "\n",
        "**Non-Violent Crimes:**\n",
        "- bad checks\n",
        "- bribery\n",
        "- drug/narcotic\n",
        "- drunkenness\n",
        "- embezzlement\n",
        "- forgery/counterfeiting\n",
        "- fraud\n",
        "- gambling\n",
        "- liquor\n",
        "- loitering \n",
        "- trespass\n",
        "\n",
        "**Non-Crimes:**\n",
        "- non-criminal\n",
        "- runaway\n",
        "- secondary codes\n",
        "- suspicious occ\n",
        "- warrants\n",
        "\n",
        "**Violent Crimes:**\n",
        "- everything else\n",
        "\n",
        "\n",
        "\n",
        "**What type of model do you need here? What is your baseline accuracy?**"
      ]
    },
    {
      "cell_type": "code",
      "metadata": {
        "id": "TiiLBe5CbNd3"
      },
      "source": [
        "NVC = ['BAD CHECKS','BRIBERY','DRUG/NARCOTIC','DRUNKENNESS',\n",
        "     'EMBEZZLEMENT','FORGERY/COUNTERFEITING','FRAUD',\n",
        "     'GAMBLING','LIQUOR','LOITERING','TRESPASS','OTHER OFFENSES']\n",
        "\n",
        "NOT_C = ['NON-CRIMINAL','RUNAWAY','SECONDARY CODES','SUSPICIOUS OCC','WARRANTS']\n",
        "\n",
        "#use a list comprehension to get all the categories in sf_crime['Category'].unique() that are NOT in the lists above\n",
        "\n",
        "VC = [i for i in sf_crime['Category'].value_counts().index if (i not in NVC) and (i not in NOT_C)]"
      ],
      "execution_count": null,
      "outputs": []
    },
    {
      "cell_type": "code",
      "metadata": {
        "id": "7LFs9k4abNeC"
      },
      "source": [
        "#add a column called 'Type' into your dataframe that stores whether the observation was:\n",
        "#Non-Violent, Violent, or Non-Crime\n",
        "#use .map()!\n",
        "def typecrime(x):\n",
        "    if x in NOT_C: return 'NOT_CRIMINAL'\n",
        "    if x in NVC: return 'NON-VIOLENT'\n",
        "    if x in VC: return 'VIOLENT_CRIME'\n",
        "\n",
        "sf_crime['Type']= sf_crime['Category'].map(typecrime)"
      ],
      "execution_count": null,
      "outputs": []
    },
    {
      "cell_type": "code",
      "metadata": {
        "id": "KjyBa36UbNeK",
        "outputId": "983a3fb4-4526-4369-e1d0-36908dccbf7f",
        "colab": {
          "base_uri": "https://localhost:8080/",
          "height": 34
        }
      },
      "source": [
        "#find the baseline accuracy:\n",
        "sf_crime['Type'].value_counts().max() / len(sf_crime['Type'])"
      ],
      "execution_count": null,
      "outputs": [
        {
          "output_type": "execute_result",
          "data": {
            "text/plain": [
              "0.5931111111111111"
            ]
          },
          "metadata": {
            "tags": []
          },
          "execution_count": 24
        }
      ]
    },
    {
      "cell_type": "code",
      "metadata": {
        "id": "5fMcNFBebNeS"
      },
      "source": [
        "#create a target array with 'Type'\n",
        "#create a predictor matrix with 'Day_of_Week','Month','Year','PdDistrict','Hour', and 'Resolution'\n",
        "y = sf_crime['Type']\n",
        "X = sf_crime[['Day_of_Week', 'Month', 'Year', 'PdDistrict', 'Hour', 'Resolution']]"
      ],
      "execution_count": null,
      "outputs": []
    },
    {
      "cell_type": "code",
      "metadata": {
        "id": "A0hzJbFpbNeZ"
      },
      "source": [
        "#use pd.get_dummies() to dummify your categorical variables\n",
        "#remember to drop a column!\n",
        "X = pd.get_dummies(X, drop_first = True)"
      ],
      "execution_count": null,
      "outputs": []
    },
    {
      "cell_type": "markdown",
      "metadata": {
        "id": "zkpHK9TibNee"
      },
      "source": [
        "### 5. Create a train/test/split and standardize the predictor matrices"
      ]
    },
    {
      "cell_type": "code",
      "metadata": {
        "id": "dhJ7sabebNef"
      },
      "source": [
        "#create a 50/50 train test split; \n",
        "#stratify based on your target variable\n",
        "#use a random state of 2018\n",
        "from sklearn.model_selection import train_test_split\n",
        "X_train, X_test, y_train, y_test = train_test_split(X, y, random_state = 2018, test_size = 0.5, stratify = y)"
      ],
      "execution_count": null,
      "outputs": []
    },
    {
      "cell_type": "markdown",
      "metadata": {
        "id": "AFMeRsUybNel"
      },
      "source": [
        "stratify"
      ]
    },
    {
      "cell_type": "code",
      "metadata": {
        "id": "Gbnzr0PObNem"
      },
      "source": [
        "#standardise your predictor matrices\n",
        "from sklearn.preprocessing import StandardScaler\n",
        "ss=StandardScaler()\n",
        "ss.fit(X_train)\n",
        "X_train_ss = ss.transform(X_train)\n",
        "X_test_ss = ss.transform(X_test)"
      ],
      "execution_count": null,
      "outputs": []
    },
    {
      "cell_type": "markdown",
      "metadata": {
        "id": "hFPKuhVrbNes"
      },
      "source": [
        "### 6. Create a basic Logistic Regression model and use cross_val_score to assess its performance on your training data"
      ]
    },
    {
      "cell_type": "code",
      "metadata": {
        "id": "LN-3-qmQbNet",
        "outputId": "654fb68b-7951-4494-8873-f8214af32427",
        "colab": {
          "base_uri": "https://localhost:8080/",
          "height": 34
        }
      },
      "source": [
        "#create a default Logistic Regression model and find its mean cross-validated accuracy with your training data\n",
        "#use 5 cross-validation folds\n",
        "from sklearn.linear_model import LogisticRegression\n",
        "model = LogisticRegression()\n",
        "cross_val_score(model, X_train_ss, y_train, cv=5).mean()"
      ],
      "execution_count": null,
      "outputs": [
        {
          "output_type": "execute_result",
          "data": {
            "text/plain": [
              "0.6271111111111112"
            ]
          },
          "metadata": {
            "tags": []
          },
          "execution_count": 29
        }
      ]
    },
    {
      "cell_type": "code",
      "metadata": {
        "id": "K2dAaXw7bNey",
        "outputId": "0c1bae63-abae-441a-a2d2-abc5f86d7148",
        "colab": {
          "base_uri": "https://localhost:8080/",
          "height": 142
        }
      },
      "source": [
        "#create a confusion matrix with cross_val_predict\n",
        "predictions = cross_val_predict(model, X_train_ss, y_train, cv=5)\n",
        "confusion = confusion_matrix(y_test, predictions)\n",
        "pd.DataFrame(confusion,\n",
        "             columns=sorted(y_train.unique()),\n",
        "             index=sorted(y_train.unique()))"
      ],
      "execution_count": null,
      "outputs": [
        {
          "output_type": "execute_result",
          "data": {
            "text/html": [
              "<div>\n",
              "<style scoped>\n",
              "    .dataframe tbody tr th:only-of-type {\n",
              "        vertical-align: middle;\n",
              "    }\n",
              "\n",
              "    .dataframe tbody tr th {\n",
              "        vertical-align: top;\n",
              "    }\n",
              "\n",
              "    .dataframe thead th {\n",
              "        text-align: right;\n",
              "    }\n",
              "</style>\n",
              "<table border=\"1\" class=\"dataframe\">\n",
              "  <thead>\n",
              "    <tr style=\"text-align: right;\">\n",
              "      <th></th>\n",
              "      <th>NON-VIOLENT</th>\n",
              "      <th>NOT_CRIMINAL</th>\n",
              "      <th>VIOLENT_CRIME</th>\n",
              "    </tr>\n",
              "  </thead>\n",
              "  <tbody>\n",
              "    <tr>\n",
              "      <th>NON-VIOLENT</th>\n",
              "      <td>340</td>\n",
              "      <td>45</td>\n",
              "      <td>1351</td>\n",
              "    </tr>\n",
              "    <tr>\n",
              "      <th>NOT_CRIMINAL</th>\n",
              "      <td>364</td>\n",
              "      <td>40</td>\n",
              "      <td>1522</td>\n",
              "    </tr>\n",
              "    <tr>\n",
              "      <th>VIOLENT_CRIME</th>\n",
              "      <td>1028</td>\n",
              "      <td>127</td>\n",
              "      <td>4183</td>\n",
              "    </tr>\n",
              "  </tbody>\n",
              "</table>\n",
              "</div>"
            ],
            "text/plain": [
              "               NON-VIOLENT  NOT_CRIMINAL  VIOLENT_CRIME\n",
              "NON-VIOLENT            340            45           1351\n",
              "NOT_CRIMINAL           364            40           1522\n",
              "VIOLENT_CRIME         1028           127           4183"
            ]
          },
          "metadata": {
            "tags": []
          },
          "execution_count": 30
        }
      ]
    },
    {
      "cell_type": "markdown",
      "metadata": {
        "id": "drZVqvz5bNe9"
      },
      "source": [
        "### 7. Find the optimal hyperparameters (optimal regularization) to predict your crime categories using GridSearchCV.\n",
        "\n",
        "> **Note:** Gridsearching can be done with `GridSearchCV` or `LogisticRegressionCV`. They operate differently - the gridsearch object is more general and can be applied to any model. The `LogisticRegressionCV` is specific to tuning the logistic regression hyperparameters. I recommend the logistic regression one, but the downside is that lasso and ridge must be searched separately. To start with, use `GridSearchCV`.\n",
        "\n",
        "**Reference for logistic regression regularization hyperparameters:**\n",
        "- `solver`: algorithm used for optimization (relevant for multiclass)\n",
        "    - Newton-cg - Handles Multinomial Loss, L2 only\n",
        "    - Sag - Handles Multinomial Loss, Large Datasets, L2 Only, Works best on scaled data\n",
        "    - lbfgs - Handles Multinomial Loss, L2 Only\n",
        "    - liblinear - Small Datasets, no Warm Starts\n",
        "- `C`: Regularization strengths (smaller values are stronger penalties)\n",
        "- `penalty`: `'l1'` - Lasso, `'l2'` - Ridge "
      ]
    },
    {
      "cell_type": "code",
      "metadata": {
        "id": "NztrS9E2bNe-"
      },
      "source": [
        "#create a hyperparameter dictionary for a logistic regression\n",
        "crime_gs_params={'penalty':['l1','l2'],\n",
        "                 'solver':['liblinear'],\n",
        "                 'C':np.logspace(-3,0,50)}"
      ],
      "execution_count": null,
      "outputs": []
    },
    {
      "cell_type": "code",
      "metadata": {
        "id": "52wtdA-2bNfD"
      },
      "source": [
        "#create a gridsearch object using LogisticRegression() and the dictionary you created above\n",
        "crime_gs=GridSearchCV(LogisticRegression(),\n",
        "                      crime_gs_params,\n",
        "                      n_jobs=-1,cv=5)"
      ],
      "execution_count": null,
      "outputs": []
    },
    {
      "cell_type": "code",
      "metadata": {
        "id": "NdhReh-pbNfJ",
        "outputId": "a5bfa4ba-e5e6-471c-c9a4-f08b278d8c7f",
        "colab": {
          "base_uri": "https://localhost:8080/",
          "height": 340
        }
      },
      "source": [
        "#fit the gridsearch object on your training data\n",
        "crime_gs.fit(X_train_ss,y_train)"
      ],
      "execution_count": null,
      "outputs": [
        {
          "output_type": "execute_result",
          "data": {
            "text/plain": [
              "GridSearchCV(cv=5, error_score=nan,\n",
              "             estimator=LogisticRegression(C=1.0, class_weight=None, dual=False,\n",
              "                                          fit_intercept=True,\n",
              "                                          intercept_scaling=1, l1_ratio=None,\n",
              "                                          max_iter=100, multi_class='auto',\n",
              "                                          n_jobs=None, penalty='l2',\n",
              "                                          random_state=None, solver='lbfgs',\n",
              "                                          tol=0.0001, verbose=0,\n",
              "                                          warm_start=False),\n",
              "             iid='deprecated', n_jobs=-1,\n",
              "             param_grid={'C': array([0.001     , 0.0011514 , 0.00...\n",
              "       0.03393222, 0.0390694 , 0.04498433, 0.05179475, 0.05963623,\n",
              "       0.06866488, 0.07906043, 0.09102982, 0.10481131, 0.12067926,\n",
              "       0.13894955, 0.15998587, 0.184207  , 0.21209509, 0.24420531,\n",
              "       0.28117687, 0.32374575, 0.37275937, 0.42919343, 0.49417134,\n",
              "       0.5689866 , 0.65512856, 0.75431201, 0.86851137, 1.        ]),\n",
              "                         'penalty': ['l1', 'l2'], 'solver': ['liblinear']},\n",
              "             pre_dispatch='2*n_jobs', refit=True, return_train_score=False,\n",
              "             scoring=None, verbose=0)"
            ]
          },
          "metadata": {
            "tags": []
          },
          "execution_count": 33
        }
      ]
    },
    {
      "cell_type": "code",
      "metadata": {
        "id": "ZxzWNQV1bNfQ",
        "outputId": "49b6308f-507e-4c5b-ca6d-048ded290c36",
        "colab": {
          "base_uri": "https://localhost:8080/",
          "height": 34
        }
      },
      "source": [
        "#print out the best parameters\n",
        "crime_gs.best_params_"
      ],
      "execution_count": null,
      "outputs": [
        {
          "output_type": "execute_result",
          "data": {
            "text/plain": [
              "{'C': 0.044984326689694466, 'penalty': 'l2', 'solver': 'liblinear'}"
            ]
          },
          "metadata": {
            "tags": []
          },
          "execution_count": 34
        }
      ]
    },
    {
      "cell_type": "code",
      "metadata": {
        "id": "J-INny2EbNfW",
        "outputId": "699a8cd7-1dbe-403b-a635-fc8fd1b97c8f",
        "colab": {
          "base_uri": "https://localhost:8080/",
          "height": 34
        }
      },
      "source": [
        "#print out the best mean cross-validated score\n",
        "crime_gs.best_score_"
      ],
      "execution_count": null,
      "outputs": [
        {
          "output_type": "execute_result",
          "data": {
            "text/plain": [
              "0.6288888888888888"
            ]
          },
          "metadata": {
            "tags": []
          },
          "execution_count": 35
        }
      ]
    },
    {
      "cell_type": "code",
      "metadata": {
        "id": "yy8B238fbNff"
      },
      "source": [
        "#assign your best estimator to the variable 'best_logreg'\n",
        "best_logreg=crime_gs.best_estimator_"
      ],
      "execution_count": null,
      "outputs": []
    },
    {
      "cell_type": "code",
      "metadata": {
        "id": "HCsXsRlMbNfk",
        "outputId": "6e1dc86d-b59d-4e83-e4bf-187331e8da6f",
        "colab": {
          "base_uri": "https://localhost:8080/",
          "height": 34
        }
      },
      "source": [
        "#score your model on your testing data\n",
        "best_logreg.score(X_test_ss,y_test)"
      ],
      "execution_count": null,
      "outputs": [
        {
          "output_type": "execute_result",
          "data": {
            "text/plain": [
              "0.6347777777777778"
            ]
          },
          "metadata": {
            "tags": []
          },
          "execution_count": 37
        }
      ]
    },
    {
      "cell_type": "markdown",
      "metadata": {
        "id": "Q045faLPbNft"
      },
      "source": [
        "### 8. Print out a classification report for your best_logreg model"
      ]
    },
    {
      "cell_type": "code",
      "metadata": {
        "id": "6r7K443CbNfv",
        "outputId": "0f0ee4e8-db45-4a2e-aa72-d55278788981",
        "colab": {
          "base_uri": "https://localhost:8080/",
          "height": 187
        }
      },
      "source": [
        "#use your test data to create your classification report\n",
        "predictions = best_logreg.predict(X_test_ss)\n",
        "print(classification_report(y_test, predictions))"
      ],
      "execution_count": null,
      "outputs": [
        {
          "output_type": "stream",
          "text": [
            "               precision    recall  f1-score   support\n",
            "\n",
            "  NON-VIOLENT       0.48      0.47      0.47      1736\n",
            " NOT_CRIMINAL       0.66      0.07      0.13      1926\n",
            "VIOLENT_CRIME       0.67      0.89      0.77      5338\n",
            "\n",
            "     accuracy                           0.63      9000\n",
            "    macro avg       0.60      0.48      0.46      9000\n",
            " weighted avg       0.63      0.63      0.57      9000\n",
            "\n"
          ],
          "name": "stdout"
        }
      ]
    },
    {
      "cell_type": "markdown",
      "metadata": {
        "id": "iO4TH0AcbNf0"
      },
      "source": [
        "### 9. Explore LogisticRegressionCV.  \n",
        "\n",
        "With LogisticRegressionCV, you can access the best regularization strength for predicting each class! Read the documentation and see if you can implement a model with LogisticRegressionCV."
      ]
    },
    {
      "cell_type": "code",
      "metadata": {
        "id": "1G3JZAB1bNf1"
      },
      "source": [
        "# creating a logistic regressioncv object\n",
        "lr_cv = LogisticRegressionCV(Cs = np.logspace(-3,0,50), fit_intercept = True, cv = 5, penalty = 'l1',\\\n",
        "                             scoring = 'f1', solver = 'liblinear', n_jobs = -1,\\\n",
        "                             random_state = 1)"
      ],
      "execution_count": null,
      "outputs": []
    },
    {
      "cell_type": "code",
      "metadata": {
        "id": "WHwYlbtj-bYh",
        "outputId": "a96cbb83-8069-4b34-85ab-5d2a51ebe98e",
        "colab": {
          "base_uri": "https://localhost:8080/",
          "height": 255
        }
      },
      "source": [
        "# training the model\n",
        "lr_cv.fit(X_train, y_train)"
      ],
      "execution_count": null,
      "outputs": [
        {
          "output_type": "execute_result",
          "data": {
            "text/plain": [
              "LogisticRegressionCV(Cs=array([0.001     , 0.0011514 , 0.00132571, 0.00152642, 0.00175751,\n",
              "       0.00202359, 0.00232995, 0.0026827 , 0.00308884, 0.00355648,\n",
              "       0.00409492, 0.00471487, 0.00542868, 0.00625055, 0.00719686,\n",
              "       0.00828643, 0.00954095, 0.01098541, 0.01264855, 0.01456348,\n",
              "       0.01676833, 0.01930698, 0.02222996, 0.02559548, 0.02947052,\n",
              "       0.03393222, 0.0390694 , 0.04498433, 0.05179475, 0.059636...\n",
              "       0.13894955, 0.15998587, 0.184207  , 0.21209509, 0.24420531,\n",
              "       0.28117687, 0.32374575, 0.37275937, 0.42919343, 0.49417134,\n",
              "       0.5689866 , 0.65512856, 0.75431201, 0.86851137, 1.        ]),\n",
              "                     class_weight=None, cv=5, dual=False, fit_intercept=True,\n",
              "                     intercept_scaling=1.0, l1_ratios=None, max_iter=100,\n",
              "                     multi_class='auto', n_jobs=-1, penalty='l1',\n",
              "                     random_state=1, refit=True, scoring='f1',\n",
              "                     solver='liblinear', tol=0.0001, verbose=0)"
            ]
          },
          "metadata": {
            "tags": []
          },
          "execution_count": 40
        }
      ]
    },
    {
      "cell_type": "code",
      "metadata": {
        "id": "Rycc0gX2-hr3",
        "outputId": "45fff589-012e-49f4-a427-9bbc53c21390",
        "colab": {
          "base_uri": "https://localhost:8080/",
          "height": 459
        }
      },
      "source": [
        "# cheking the model parameters and intercept\n",
        "print(lr_cv.classes_, '\\n')\n",
        "print(lr_cv.coef_, '\\n')\n",
        "print(lr_cv.intercept_, '\\n')"
      ],
      "execution_count": null,
      "outputs": [
        {
          "output_type": "stream",
          "text": [
            "['NON-VIOLENT' 'NOT_CRIMINAL' 'VIOLENT_CRIME'] \n",
            "\n",
            "[[ 1.29742314e-02  1.05259344e-04 -2.03918510e-02  2.78748434e-02\n",
            "  -1.09466350e-01 -2.50094664e-01 -1.32944490e-01  0.00000000e+00\n",
            "   7.56330128e-02 -3.59681251e-01 -1.02208862e-01 -1.70337109e-01\n",
            "  -3.69280335e-01 -6.39512452e-02 -2.96036330e-01 -4.39225304e-01\n",
            "   2.75227448e-02  0.00000000e+00  2.70589218e+00 -9.33120767e-01\n",
            "  -3.21953761e+00 -2.21478150e-01 -2.20310707e+00 -1.89758090e+00\n",
            "   0.00000000e+00 -1.95496358e+00 -1.19155401e+00]\n",
            " [ 6.97819774e-03 -5.29097351e-04 -2.22773260e-02 -3.45242157e-02\n",
            "  -2.02607437e-01 -8.61451362e-03  0.00000000e+00  0.00000000e+00\n",
            "   5.43242496e-02 -5.49566509e-02  1.42314074e-02  1.92934614e-01\n",
            "  -2.89024849e-01  4.32480082e-02  0.00000000e+00  0.00000000e+00\n",
            "   1.37543406e-01  4.10766092e-01 -1.17612701e+00  0.00000000e+00\n",
            "   1.08361459e+00 -2.64580923e-01 -3.13077748e-01 -3.30117432e-02\n",
            "   0.00000000e+00  3.49975144e+00  1.77857906e+00]\n",
            " [-1.47145941e-02 -5.61711003e-04  3.03111648e-02  4.11842931e-03\n",
            "   2.28793516e-01  1.68728203e-01  8.81065369e-02  4.18724686e-03\n",
            "  -9.67156769e-02  2.71448441e-01  5.11188025e-02 -3.46600281e-02\n",
            "   4.47105452e-01  5.93193396e-03  1.87459195e-01  2.72451145e-01\n",
            "  -1.15991150e-01 -3.41224151e-01 -3.27161594e+00  8.29576096e-01\n",
            "   6.33268555e-01  4.92910227e-01  2.34224679e+00  1.43239867e+00\n",
            "   0.00000000e+00 -1.56132240e+00 -7.91665494e-01]] \n",
            "\n",
            "[0. 0. 0.] \n",
            "\n"
          ],
          "name": "stdout"
        }
      ]
    },
    {
      "cell_type": "code",
      "metadata": {
        "id": "EIp4tgTy-78j",
        "outputId": "43f59a24-ecbd-44aa-8db4-2646f9f9686b",
        "colab": {
          "base_uri": "https://localhost:8080/",
          "height": 34
        }
      },
      "source": [
        "# checking the f1 score of each fold\n",
        "cross_val_score(lr_cv, X_test, y_test, scoring = 'f1_micro')"
      ],
      "execution_count": null,
      "outputs": [
        {
          "output_type": "execute_result",
          "data": {
            "text/plain": [
              "array([0.63111111, 0.63111111, 0.63722222, 0.63333333, 0.63944444])"
            ]
          },
          "metadata": {
            "tags": []
          },
          "execution_count": 43
        }
      ]
    },
    {
      "cell_type": "code",
      "metadata": {
        "id": "LM8Rk1f4AQc-"
      },
      "source": [
        "y_pred = lr_cv.predict(X_test)"
      ],
      "execution_count": null,
      "outputs": []
    },
    {
      "cell_type": "code",
      "metadata": {
        "id": "wPrrnq89_Vci",
        "outputId": "47b6c7e4-0468-4551-c670-483e2b187060",
        "colab": {
          "base_uri": "https://localhost:8080/",
          "height": 289
        }
      },
      "source": [
        "#overall model evaluation\n",
        "print(accuracy_score(y_test, y_pred), '\\n')\n",
        "print(confusion_matrix(y_test, y_pred),'\\n')\n",
        "print(classification_report(y_test, y_pred))"
      ],
      "execution_count": null,
      "outputs": [
        {
          "output_type": "stream",
          "text": [
            "0.6343333333333333 \n",
            "\n",
            "[[ 810   34  892]\n",
            " [ 347  139 1440]\n",
            " [ 539   39 4760]] \n",
            "\n",
            "               precision    recall  f1-score   support\n",
            "\n",
            "  NON-VIOLENT       0.48      0.47      0.47      1736\n",
            " NOT_CRIMINAL       0.66      0.07      0.13      1926\n",
            "VIOLENT_CRIME       0.67      0.89      0.77      5338\n",
            "\n",
            "     accuracy                           0.63      9000\n",
            "    macro avg       0.60      0.48      0.46      9000\n",
            " weighted avg       0.63      0.63      0.57      9000\n",
            "\n"
          ],
          "name": "stdout"
        }
      ]
    },
    {
      "cell_type": "code",
      "metadata": {
        "id": "c26hZBryALao"
      },
      "source": [
        ""
      ],
      "execution_count": null,
      "outputs": []
    }
  ]
}