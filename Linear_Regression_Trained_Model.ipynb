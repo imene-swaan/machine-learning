{
  "nbformat": 4,
  "nbformat_minor": 0,
  "metadata": {
    "colab": {
      "name": "Linear Regression Trained Model.ipynb",
      "provenance": [],
      "collapsed_sections": [],
      "include_colab_link": true
    },
    "kernelspec": {
      "name": "python3",
      "display_name": "Python 3"
    }
  },
  "cells": [
    {
      "cell_type": "markdown",
      "metadata": {
        "id": "view-in-github",
        "colab_type": "text"
      },
      "source": [
        "<a href=\"https://colab.research.google.com/github/imene-swaan/machine-learning/blob/master/Linear_Regression_Trained_Model.ipynb\" target=\"_parent\"><img src=\"https://colab.research.google.com/assets/colab-badge.svg\" alt=\"Open In Colab\"/></a>"
      ]
    },
    {
      "cell_type": "code",
      "metadata": {
        "id": "SvYwxEUsgATh"
      },
      "source": [
        "# import libraries\n",
        "import pandas as pd\n",
        "import numpy as np"
      ],
      "execution_count": 51,
      "outputs": []
    },
    {
      "cell_type": "code",
      "metadata": {
        "id": "5Lq6CoLk-SoW",
        "outputId": "c7ec5df9-a24e-42df-e0d7-9610957afce6",
        "colab": {
          "base_uri": "https://localhost:8080/",
          "height": 34
        }
      },
      "source": [
        "from google.colab import drive\n",
        "drive.mount('/content/drive')"
      ],
      "execution_count": 52,
      "outputs": [
        {
          "output_type": "stream",
          "text": [
            "Drive already mounted at /content/drive; to attempt to forcibly remount, call drive.mount(\"/content/drive\", force_remount=True).\n"
          ],
          "name": "stdout"
        }
      ]
    },
    {
      "cell_type": "code",
      "metadata": {
        "id": "1UNxKU0lgUYS"
      },
      "source": [
        "# Load the dataset F3 and T2\n",
        "Features = pd.read_csv('/content/drive/My Drive/AI project team/quizz (Linear Regression Trained Model)/F3.csv')\n",
        "Target = pd.read_csv('/content/drive/My Drive/AI project team/quizz (Linear Regression Trained Model)/T2.csv')\n",
        "\n",
        "# Based on the datasets, is supervised or unsupervised ?\n",
        "# what do you want to predict ?"
      ],
      "execution_count": 53,
      "outputs": []
    },
    {
      "cell_type": "code",
      "metadata": {
        "id": "pOiJIZ02j3iu",
        "outputId": "f54d0f35-413f-470f-b893-ceeac6c7af8b",
        "colab": {
          "base_uri": "https://localhost:8080/",
          "height": 321
        }
      },
      "source": [
        "print('Features:\\n',Features.head())\n",
        "print('Target:\\n',Target.head(), '\\n')\n",
        "print('from the visualization of the first rows of the dataset we ca see that it is a supervised learning problem' )"
      ],
      "execution_count": 54,
      "outputs": [
        {
          "output_type": "stream",
          "text": [
            "Features:\n",
            "    Administrative  Administrative_Duration  ...  Region_8  Region_9\n",
            "0               0                      0.0  ...         0         0\n",
            "1               0                      0.0  ...         0         0\n",
            "2               0                      0.0  ...         0         1\n",
            "3               0                      0.0  ...         0         0\n",
            "4               0                      0.0  ...         0         0\n",
            "\n",
            "[5 rows x 68 columns]\n",
            "Target:\n",
            "    Revenue\n",
            "0        0\n",
            "1        0\n",
            "2        0\n",
            "3        0\n",
            "4        0 \n",
            "\n",
            "from the visualization of the first rows of the dataset we ca see that it is a supervised learning problem\n"
          ],
          "name": "stdout"
        }
      ]
    },
    {
      "cell_type": "markdown",
      "metadata": {
        "id": "Fl9P05xH_4j8"
      },
      "source": [
        "- since we have the target variable, we should use supervised machine learning model\n",
        "- we want to predict the Target variable **Revenue** in the Target dataframe."
      ]
    },
    {
      "cell_type": "code",
      "metadata": {
        "id": "3g4gt0PZgm3J"
      },
      "source": [
        "# Begin by creating a test and training dataset. Train the data using the\n",
        "# training dataset and evaluate the performance of the model on the\n",
        "# test dataset.\n",
        "# We will use test_size = 0.2\n",
        "# will be reserved for testing, and we will set a number for the random_state parameter:\n",
        "\n",
        "# From ? import train_test_split\n",
        "from sklearn.model_selection import train_test_split\n",
        "# Explain test_size and random_state, can both be changed ?\n",
        "test_size = 0.2\n",
        "random_state = 42\n",
        "# test_size is the size of the test set which equals to 20% of the dataset\n",
        "# random_state is the value that will be used by a random numbers generator to randomly choose the data of the test data"
      ],
      "execution_count": 55,
      "outputs": []
    },
    {
      "cell_type": "code",
      "metadata": {
        "id": "HLgSlZsFv53f"
      },
      "source": [
        "X_train, X_test, y_train, y_test = train_test_split(Features, Target, test_size=test_size, random_state=random_state)"
      ],
      "execution_count": 56,
      "outputs": []
    },
    {
      "cell_type": "code",
      "metadata": {
        "id": "kFQCp09wukyw",
        "outputId": "52099df3-c363-4537-a859-7a08f7784255",
        "colab": {
          "base_uri": "https://localhost:8080/",
          "height": 118
        }
      },
      "source": [
        "\n",
        "# Print out the shape of each DataFrame to verify that the dimensions are correct\n",
        "\n",
        "print(f'Shape of X train: {X_train.shape}')\n",
        "print(f'Shape of y train: {y_train.shape}')\n",
        "print(f'Shape of X test: {X_test.shape}')\n",
        "print(f'Shape of y test: {y_test.shape}')\n",
        "\n",
        "# Is the 20% respected?\n",
        "# Identify Features dataset and Target dataset\n",
        "print(f'the 20% is respected because\\n 0.2 * {Features.shape[0]} = {X_test.shape[0]}')"
      ],
      "execution_count": 57,
      "outputs": [
        {
          "output_type": "stream",
          "text": [
            "Shape of X train: (9864, 68)\n",
            "Shape of y train: (9864, 1)\n",
            "Shape of X test: (2466, 68)\n",
            "Shape of y test: (2466, 1)\n",
            "the 20% is respected because\n",
            " 0.2 * 12330 = 2466\n"
          ],
          "name": "stdout"
        }
      ]
    },
    {
      "cell_type": "code",
      "metadata": {
        "id": "VYzHbbt6w0Vh"
      },
      "source": [
        "# Next, instantiate the model\n",
        "\n",
        "# Import Logistic Regression from sklearn.linear_model\n",
        "\n",
        "# .......\n",
        "\n",
        "from sklearn.linear_model import LogisticRegression\n",
        "\n",
        "# Write the model expression with random_state as parameter ONLY\n",
        "\n",
        "model= LogisticRegression()\n",
        "\n",
        "# While there are many arguments we can add to scikit-learn's logistic regression\n",
        "# model (such as the type and value of the regularization parameter, the type of\n",
        "# solver, and the maximum number of iterations for the model to have), we will\n",
        "# only pass 'random_state\".\n",
        "\n",
        "# You can add more parameters if you want and see how these parameters can affect the results."
      ],
      "execution_count": 58,
      "outputs": []
    },
    {
      "cell_type": "code",
      "metadata": {
        "id": "geG0MF8Bw909",
        "outputId": "338c5c8b-9806-405c-b0ef-9caf098873c7",
        "colab": {
          "base_uri": "https://localhost:8080/",
          "height": 290
        }
      },
      "source": [
        "# Then, fit the model to the training data:\n",
        "\n",
        "model.fit(X_train, y_train)\n",
        " \n",
        "# Explain the output ...\n",
        "# https://scikit-learn.org/stable/modules/generated/sklearn.linear_model.LogisticRegression.html"
      ],
      "execution_count": 59,
      "outputs": [
        {
          "output_type": "stream",
          "text": [
            "/usr/local/lib/python3.6/dist-packages/sklearn/utils/validation.py:760: DataConversionWarning: A column-vector y was passed when a 1d array was expected. Please change the shape of y to (n_samples, ), for example using ravel().\n",
            "  y = column_or_1d(y, warn=True)\n",
            "/usr/local/lib/python3.6/dist-packages/sklearn/linear_model/_logistic.py:940: ConvergenceWarning: lbfgs failed to converge (status=1):\n",
            "STOP: TOTAL NO. of ITERATIONS REACHED LIMIT.\n",
            "\n",
            "Increase the number of iterations (max_iter) or scale the data as shown in:\n",
            "    https://scikit-learn.org/stable/modules/preprocessing.html\n",
            "Please also refer to the documentation for alternative solver options:\n",
            "    https://scikit-learn.org/stable/modules/linear_model.html#logistic-regression\n",
            "  extra_warning_msg=_LOGISTIC_SOLVER_CONVERGENCE_MSG)\n"
          ],
          "name": "stderr"
        },
        {
          "output_type": "execute_result",
          "data": {
            "text/plain": [
              "LogisticRegression(C=1.0, class_weight=None, dual=False, fit_intercept=True,\n",
              "                   intercept_scaling=1, l1_ratio=None, max_iter=100,\n",
              "                   multi_class='auto', n_jobs=None, penalty='l2',\n",
              "                   random_state=None, solver='lbfgs', tol=0.0001, verbose=0,\n",
              "                   warm_start=False)"
            ]
          },
          "metadata": {
            "tags": []
          },
          "execution_count": 59
        }
      ]
    },
    {
      "cell_type": "code",
      "metadata": {
        "id": "ED2FwM0RxHoO"
      },
      "source": [
        "y_pred = model.predict(X_test)"
      ],
      "execution_count": 60,
      "outputs": []
    },
    {
      "cell_type": "code",
      "metadata": {
        "id": "n3tuACD5xSgU",
        "outputId": "dfa85e4a-85c4-4ba4-97c1-162274805f8a",
        "colab": {
          "base_uri": "https://localhost:8080/",
          "height": 34
        }
      },
      "source": [
        "# There are many types of model evaluation metrics that we can use. Let's start\n",
        "# with the accuracy, which is defined as the proportion of predicted values that\n",
        "# equal the true values:\n",
        "\n",
        "# Import metrics from sklean\n",
        "# accuracy = metrics.accuracy_score(.......)\n",
        "# Use print to display the result below\n",
        "\n",
        "from sklearn import metrics\n",
        "accuracy = metrics.accuracy_score(y_pred, y_test)\n",
        "print(f'Accuracy of the model is {accuracy * 100}%')"
      ],
      "execution_count": 61,
      "outputs": [
        {
          "output_type": "stream",
          "text": [
            "Accuracy of the model is 87.14517437145174%\n"
          ],
          "name": "stdout"
        }
      ]
    },
    {
      "cell_type": "code",
      "metadata": {
        "id": "nWq1zsE3xfHk",
        "outputId": "57b10ea5-37f0-44ca-f952-5eb73d8400f5",
        "colab": {
          "base_uri": "https://localhost:8080/",
          "height": 67
        }
      },
      "source": [
        "# Other common evaluation metrics for classification models include precision,\n",
        "# recall, and fscore. Use the scikit-learn precison_recall_fscore_\n",
        "# support function, which can calculate all three:\n",
        "\n",
        "precision, recall, fscore, _ = metrics.precision_recall_fscore_support(y_pred=y_pred, \\\n",
        "y_true=y_test, average='binary')\n",
        "\n",
        "print(f'precision: {precision:.4f}\\nrecall: {recall:.4f}\\nfscore: {fscore:.4f}')\n",
        "\n",
        "# The following figure shows the output of the preceding code, explain the result\n",
        "# precision from all positive predicited values how much we predicted correctly\n",
        "# recall from actual positive examples how much we predicted positive\n",
        "# fscore is the combination for both precision and reacll"
      ],
      "execution_count": 62,
      "outputs": [
        {
          "output_type": "stream",
          "text": [
            "precision: 0.7398\n",
            "recall: 0.3528\n",
            "fscore: 0.4778\n"
          ],
          "name": "stdout"
        }
      ]
    },
    {
      "cell_type": "markdown",
      "metadata": {
        "id": "JJA-z1T8yS5s"
      },
      "source": [
        "Implementing 2 more models"
      ]
    },
    {
      "cell_type": "markdown",
      "metadata": {
        "id": "Qcc_zHUx01mA"
      },
      "source": [
        "Support vector machines"
      ]
    },
    {
      "cell_type": "code",
      "metadata": {
        "id": "gYWPthGF03uv",
        "outputId": "a6b9583a-0c2c-4f2b-f07c-42470a954bfe",
        "colab": {
          "base_uri": "https://localhost:8080/",
          "height": 138
        }
      },
      "source": [
        "# instantiate the svm model\n",
        "from sklearn import svm\n",
        "svm_model = svm.SVC()\n",
        "# train the model\n",
        "svm_model.fit(X_train, y_train)\n"
      ],
      "execution_count": 64,
      "outputs": [
        {
          "output_type": "stream",
          "text": [
            "/usr/local/lib/python3.6/dist-packages/sklearn/utils/validation.py:760: DataConversionWarning: A column-vector y was passed when a 1d array was expected. Please change the shape of y to (n_samples, ), for example using ravel().\n",
            "  y = column_or_1d(y, warn=True)\n"
          ],
          "name": "stderr"
        },
        {
          "output_type": "execute_result",
          "data": {
            "text/plain": [
              "SVC(C=1.0, break_ties=False, cache_size=200, class_weight=None, coef0=0.0,\n",
              "    decision_function_shape='ovr', degree=3, gamma='scale', kernel='rbf',\n",
              "    max_iter=-1, probability=False, random_state=None, shrinking=True,\n",
              "    tol=0.001, verbose=False)"
            ]
          },
          "metadata": {
            "tags": []
          },
          "execution_count": 64
        }
      ]
    },
    {
      "cell_type": "code",
      "metadata": {
        "id": "DSjHFNKK10Uh"
      },
      "source": [
        "# making predictions\n",
        "y_pred = svm_model.predict(X_test)"
      ],
      "execution_count": 65,
      "outputs": []
    },
    {
      "cell_type": "code",
      "metadata": {
        "id": "oap-5-OY1_cs",
        "outputId": "26881d88-e466-43a3-dabb-e0a219e5f249",
        "colab": {
          "base_uri": "https://localhost:8080/",
          "height": 34
        }
      },
      "source": [
        "# model evaluation using the accuracy score\n",
        "accuracy_svm = metrics.accuracy_score(y_pred, y_test)\n",
        "print(f'Accuracy of the model is {accuracy_svm * 100}%')"
      ],
      "execution_count": 66,
      "outputs": [
        {
          "output_type": "stream",
          "text": [
            "Accuracy of the model is 83.4955393349554%\n"
          ],
          "name": "stdout"
        }
      ]
    },
    {
      "cell_type": "code",
      "metadata": {
        "id": "wxZmkSAW2Lna",
        "outputId": "48454f42-c261-4824-d7fc-1fa544e51b69",
        "colab": {
          "base_uri": "https://localhost:8080/",
          "height": 67
        }
      },
      "source": [
        "# model evaluation using precision, recall and f1 score\n",
        "precision, recall, fscore, _ = metrics.precision_recall_fscore_support(y_pred=y_pred, \\\n",
        "y_true=y_test, average='binary')\n",
        "\n",
        "print(f'precision: {precision:.4f}\\nrecall: {recall:.4f}\\nfscore: {fscore:.4f}')"
      ],
      "execution_count": 67,
      "outputs": [
        {
          "output_type": "stream",
          "text": [
            "precision: 0.8333\n",
            "recall: 0.0122\n",
            "fscore: 0.0240\n"
          ],
          "name": "stdout"
        }
      ]
    },
    {
      "cell_type": "markdown",
      "metadata": {
        "id": "9estXYPICHyk"
      },
      "source": [
        "Random Forest Classifier"
      ]
    },
    {
      "cell_type": "code",
      "metadata": {
        "id": "LCksSf7b2iuG",
        "outputId": "4315bd18-af6e-406e-aee2-679e386300b7",
        "colab": {
          "base_uri": "https://localhost:8080/",
          "height": 206
        }
      },
      "source": [
        "# instantiate the svm model\n",
        "from sklearn.ensemble import RandomForestClassifier\n",
        "Random_forest_model = RandomForestClassifier()\n",
        "# train the model\n",
        "Random_forest_model.fit(X_train, y_train)"
      ],
      "execution_count": 32,
      "outputs": [
        {
          "output_type": "stream",
          "text": [
            "/usr/local/lib/python3.6/dist-packages/ipykernel_launcher.py:5: DataConversionWarning: A column-vector y was passed when a 1d array was expected. Please change the shape of y to (n_samples,), for example using ravel().\n",
            "  \"\"\"\n"
          ],
          "name": "stderr"
        },
        {
          "output_type": "execute_result",
          "data": {
            "text/plain": [
              "RandomForestClassifier(bootstrap=True, ccp_alpha=0.0, class_weight=None,\n",
              "                       criterion='gini', max_depth=None, max_features='auto',\n",
              "                       max_leaf_nodes=None, max_samples=None,\n",
              "                       min_impurity_decrease=0.0, min_impurity_split=None,\n",
              "                       min_samples_leaf=1, min_samples_split=2,\n",
              "                       min_weight_fraction_leaf=0.0, n_estimators=100,\n",
              "                       n_jobs=None, oob_score=False, random_state=None,\n",
              "                       verbose=0, warm_start=False)"
            ]
          },
          "metadata": {
            "tags": []
          },
          "execution_count": 32
        }
      ]
    },
    {
      "cell_type": "code",
      "metadata": {
        "id": "pUW0q6VcDL1s"
      },
      "source": [
        "# making predictions\n",
        "y_pred = Random_forest_model.predict(X_test)"
      ],
      "execution_count": 39,
      "outputs": []
    },
    {
      "cell_type": "code",
      "metadata": {
        "id": "S2t-WDuzDYoE",
        "outputId": "bf2dd457-e94b-4db2-b661-a88c50d60a35",
        "colab": {
          "base_uri": "https://localhost:8080/",
          "height": 34
        }
      },
      "source": [
        "# model evaluation using the accuracy score\n",
        "accuracy_Random_forest = metrics.accuracy_score(y_pred, y_test)\n",
        "print(f'Accuracy of the model is {accuracy_Random_forest * 100}%')"
      ],
      "execution_count": 40,
      "outputs": [
        {
          "output_type": "stream",
          "text": [
            "Accuracy of the model is 88.84833738848337%\n"
          ],
          "name": "stdout"
        }
      ]
    },
    {
      "cell_type": "code",
      "metadata": {
        "id": "Fx2laTyxDkdb",
        "outputId": "273046cf-a4be-485c-a6b7-a1eabe77f86a",
        "colab": {
          "base_uri": "https://localhost:8080/",
          "height": 67
        }
      },
      "source": [
        "# model evaluation using precision, recall and f1 score\n",
        "precision, recall, fscore, _ = metrics.precision_recall_fscore_support(y_pred=y_pred, \\\n",
        "y_true=y_test, average='binary')\n",
        "\n",
        "print(f'precision: {precision:.4f}\\nrecall: {recall:.4f}\\nfscore: {fscore:.4f}')"
      ],
      "execution_count": 41,
      "outputs": [
        {
          "output_type": "stream",
          "text": [
            "precision: 0.7500\n",
            "recall: 0.4964\n",
            "fscore: 0.5974\n"
          ],
          "name": "stdout"
        }
      ]
    }
  ]
}